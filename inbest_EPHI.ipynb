{
 "cells": [
  {
   "cell_type": "markdown",
   "id": "8a79d45d",
   "metadata": {},
   "source": [
    "# Prepared by ABABA LATA GUTA"
   ]
  },
  {
   "cell_type": "markdown",
   "id": "fccab0f2",
   "metadata": {},
   "source": [
    "# Child Health and Mortality Prevention Surveillance (CHAMPS)"
   ]
  },
  {
   "cell_type": "markdown",
   "id": "2367bcfa",
   "metadata": {},
   "source": [
    "In this data challenge, Child Health and Mortality Prevention Surveillance (CHAMPS) dataset has been provided to the interns. The purpose of the CHAMPS Surveillance dataset was to collect, analyze, and share data to help identify the causes of child deaths in areas with high child mortality. For the child mortality dataset, there are underlying cause of death from the infant side and also maternal factors contributing to this death. For ease of understanding, variable names and their possible values have been decoded in table 1 below"
   ]
  },
  {
   "cell_type": "markdown",
   "id": "f06c837b",
   "metadata": {},
   "source": [
    "# Libraries Used"
   ]
  },
  {
   "cell_type": "markdown",
   "id": "9e8a456a",
   "metadata": {},
   "source": [
    "* Random: Python modeule for generating random numbers.\n",
    "    \n",
    "* Pandas (pd):Data manipulation and analysis library.\n",
    "    \n",
    "* numpy (np) : Library for numerical operations on arrays and metrices\n",
    "\n",
    "* Matplotlib.pyplot as plt : Visualization library for creating static, animated, and interace.\n",
    "    \n",
    "* seaborn (sns): Data Visualization library based on matplotlib that provides a high-level interface\n",
    "    \n",
    "* scipy.stats.outliers_influence.variance_infelation_factor: VIF predictor\n",
    "    \n",
    "* statsmodels.tools.tools.add_constant: Function to add a constant term to the predictor.\n",
    "\n",
    "* sklearn.model_selection.GridSearchCV: Grid search with cross-validation.\n",
    "    \n",
    "* sklearn.metrics: Evaluation metrics for machine learning models.\n",
    "    \n",
    "* sklearn.linear_model import LogisticRegression \n",
    "\n",
    "* sklearn.ensemble import AdaBoostClassifier: AdaBoostClassifier\n",
    "\n",
    "* sklearn.ensemble import RandomForestClassifier: RandomForestClassifier\n",
    "\n",
    "* sklearn.ensemble import GradientBoostingClassifier:GradientBoostingClassifier \n",
    "\n",
    "* xgboost import XGBClassifier \n",
    "\n",
    "    \n"
   ]
  },
  {
   "cell_type": "markdown",
   "id": "46bc75ab",
   "metadata": {},
   "source": [
    "# Code Explanation"
   ]
  },
  {
   "cell_type": "markdown",
   "id": "db220f79",
   "metadata": {},
   "source": [
    "* The code begins by setting up the necessary libraries and configuring warming filters to ignore them during execution. it then proceeds with data analysis and machine learning model training.\n",
    "\n",
    "\n",
    "* Note: Ensure that the required datasets are loaded before running this code cell.\n"
   ]
  },
  {
   "cell_type": "markdown",
   "id": "e1d912ef",
   "metadata": {},
   "source": [
    "# The Mentioned classification models with more detailed parameter tuning used are given below:\n",
    "\n",
    "* Logistic Regression:-\n",
    "\n",
    "     * C: Regularization parameter\n",
    "     \n",
    "     * penalty: Regularization type ('l1' or 'l2')\n",
    "\n",
    "     * solver: Optimization algorithm to use\n",
    "\n",
    "* Support Vector Machine (SVM):\n",
    "\n",
    "     * C: Regularization parameter\n",
    "\n",
    "     * kernel: Kernel type ('linear', 'rbf', 'poly', 'sigmoid')\n",
    "     \n",
    "     * gamma: Kernel coefficient\n",
    " \n",
    "* AdaBoost Classifier:\n",
    "    \n",
    "     * n_estimators: Number of weak learners\n",
    "\n",
    "     * learning_rate: Learning rate\n",
    "\n",
    "* Random Forest Classifier:\n",
    "    \n",
    "     * n_estimators: Number of trees\n",
    "\n",
    "     * max_depth: Maximum depth of the trees\n",
    "\n",
    "     * min_samples_split: Minimum number of samples required to split a node\n",
    "\n",
    "* Gradient Boosting Classifier:\n",
    "\n",
    "     * n_estimators: Number of boosting stages\n",
    "\n",
    "     * max_depth: Maximum depth of the individual regression estimators\n",
    "\n",
    "     * learning_rate: Learning rate\n",
    "\n",
    "* XGBoost Classifier:\n",
    "\n",
    "     * n_estimators: Number of boosting rounds\n",
    "\n",
    "     * max_depth: Maximum depth of the trees\n",
    "\n",
    "     * learning_rate: Learning rate\n",
    "\n",
    "* For each model, we use a GridSearchCV to perform a hyperparameter search to find the best combination of parameters. The test accuracy for each model is printed."
   ]
  },
  {
   "cell_type": "markdown",
   "id": "38214093",
   "metadata": {},
   "source": [
    "# Import Important Library"
   ]
  },
  {
   "cell_type": "code",
   "execution_count": 1,
   "id": "4b1f2dfb",
   "metadata": {},
   "outputs": [],
   "source": [
    "import numpy as np\n",
    "import matplotlib.pyplot as plt\n",
    "import pandas as pd\n",
    "from sklearn.linear_model import LogisticRegression\n",
    "from sklearn.svm import SVC\n",
    "from sklearn.ensemble import AdaBoostClassifier\n",
    "from sklearn.ensemble import RandomForestClassifier\n",
    "from sklearn.ensemble import GradientBoostingClassifier\n",
    "from xgboost import XGBClassifier\n",
    "from sklearn.model_selection import GridSearchCV\n",
    "from sklearn.metrics import make_scorer,matthews_corrcoef,accuracy_score, f1_score, precision_score, recall_score, roc_auc_score, roc_curve, auc\n",
    "from sklearn.model_selection import StratifiedKFold\n",
    "from sklearn.ensemble import VotingClassifier\n",
    "from sklearn.cluster import KMeans\n",
    "from sklearn.preprocessing import StandardScaler\n",
    "from sklearn.model_selection import train_test_split\n",
    "import seaborn as sns\n",
    "from scipy import stats\n",
    "from statsmodels.stats.outliers_influence import variance_inflation_factor\n",
    "from statsmodels.tools.tools import add_constant\n",
    "from warnings import filterwarnings\n",
    "\n",
    "filterwarnings('ignore')"
   ]
  },
  {
   "cell_type": "code",
   "execution_count": 2,
   "id": "81b887b1",
   "metadata": {},
   "outputs": [
    {
     "data": {
      "text/html": [
       "<div>\n",
       "<style scoped>\n",
       "    .dataframe tbody tr th:only-of-type {\n",
       "        vertical-align: middle;\n",
       "    }\n",
       "\n",
       "    .dataframe tbody tr th {\n",
       "        vertical-align: top;\n",
       "    }\n",
       "\n",
       "    .dataframe thead th {\n",
       "        text-align: right;\n",
       "    }\n",
       "</style>\n",
       "<table border=\"1\" class=\"dataframe\">\n",
       "  <thead>\n",
       "    <tr style=\"text-align: right;\">\n",
       "      <th></th>\n",
       "      <th>packet_version_id</th>\n",
       "      <th>id_ver_nmb</th>\n",
       "      <th>champs_id</th>\n",
       "      <th>dp_001</th>\n",
       "      <th>dp_002</th>\n",
       "      <th>dp_003</th>\n",
       "      <th>dp_004</th>\n",
       "      <th>dp_005</th>\n",
       "      <th>dp_006</th>\n",
       "      <th>dp_007</th>\n",
       "      <th>...</th>\n",
       "      <th>dpf_012___ch00040</th>\n",
       "      <th>dpf_012___ch00041</th>\n",
       "      <th>dpf_012___ch00042</th>\n",
       "      <th>dpf_012___ch00043</th>\n",
       "      <th>dpf_012___ch01424</th>\n",
       "      <th>dpf_012___ch01875</th>\n",
       "      <th>dpf_012___ch00010</th>\n",
       "      <th>dpf_013</th>\n",
       "      <th>dpf_014</th>\n",
       "      <th>crf_060302_decode_panel_feedback_form_complete</th>\n",
       "    </tr>\n",
       "  </thead>\n",
       "  <tbody>\n",
       "    <tr>\n",
       "      <th>0</th>\n",
       "      <td>ETAA00002_01_01</td>\n",
       "      <td>2.0.0</td>\n",
       "      <td>ETAA00002</td>\n",
       "      <td>5</td>\n",
       "      <td>1</td>\n",
       "      <td>2</td>\n",
       "      <td>3</td>\n",
       "      <td>4.0</td>\n",
       "      <td>5.0</td>\n",
       "      <td>6.0</td>\n",
       "      <td>...</td>\n",
       "      <td>0</td>\n",
       "      <td>0</td>\n",
       "      <td>0</td>\n",
       "      <td>0</td>\n",
       "      <td>0</td>\n",
       "      <td>0</td>\n",
       "      <td>0</td>\n",
       "      <td>Tseyon Tesfaye Clinical</td>\n",
       "      <td>None</td>\n",
       "      <td>2</td>\n",
       "    </tr>\n",
       "    <tr>\n",
       "      <th>1</th>\n",
       "      <td>ETAA00004_01_02</td>\n",
       "      <td>2.0.0</td>\n",
       "      <td>ETAA00004</td>\n",
       "      <td>5</td>\n",
       "      <td>1</td>\n",
       "      <td>2</td>\n",
       "      <td>3</td>\n",
       "      <td>4.0</td>\n",
       "      <td>5.0</td>\n",
       "      <td>6.0</td>\n",
       "      <td>...</td>\n",
       "      <td>0</td>\n",
       "      <td>0</td>\n",
       "      <td>0</td>\n",
       "      <td>0</td>\n",
       "      <td>0</td>\n",
       "      <td>0</td>\n",
       "      <td>0</td>\n",
       "      <td>Adugna (SBS team), Tigistu (counselor), Tseyon...</td>\n",
       "      <td>NaN</td>\n",
       "      <td>2</td>\n",
       "    </tr>\n",
       "    <tr>\n",
       "      <th>2</th>\n",
       "      <td>ETAA00005_01_02</td>\n",
       "      <td>2.0.0</td>\n",
       "      <td>ETAA00005</td>\n",
       "      <td>5</td>\n",
       "      <td>1</td>\n",
       "      <td>2</td>\n",
       "      <td>3</td>\n",
       "      <td>4.0</td>\n",
       "      <td>5.0</td>\n",
       "      <td>6.0</td>\n",
       "      <td>...</td>\n",
       "      <td>0</td>\n",
       "      <td>0</td>\n",
       "      <td>0</td>\n",
       "      <td>0</td>\n",
       "      <td>0</td>\n",
       "      <td>0</td>\n",
       "      <td>0</td>\n",
       "      <td>Adugna (SBS team), Tigistu (counselor), Tseyon...</td>\n",
       "      <td>None</td>\n",
       "      <td>2</td>\n",
       "    </tr>\n",
       "    <tr>\n",
       "      <th>3</th>\n",
       "      <td>ETAA00008_01_04</td>\n",
       "      <td>2.0.0</td>\n",
       "      <td>ETAA00008</td>\n",
       "      <td>5</td>\n",
       "      <td>1</td>\n",
       "      <td>2</td>\n",
       "      <td>3</td>\n",
       "      <td>4.0</td>\n",
       "      <td>5.0</td>\n",
       "      <td>6.0</td>\n",
       "      <td>...</td>\n",
       "      <td>0</td>\n",
       "      <td>0</td>\n",
       "      <td>0</td>\n",
       "      <td>0</td>\n",
       "      <td>0</td>\n",
       "      <td>0</td>\n",
       "      <td>0</td>\n",
       "      <td>Abdurahman Yonis(HO), Eyoel Taye(counselor), G...</td>\n",
       "      <td>The family leaves in a refugee camp and even t...</td>\n",
       "      <td>2</td>\n",
       "    </tr>\n",
       "    <tr>\n",
       "      <th>4</th>\n",
       "      <td>ETAA00009_01_01</td>\n",
       "      <td>2.0.0</td>\n",
       "      <td>ETAA00009</td>\n",
       "      <td>5</td>\n",
       "      <td>18</td>\n",
       "      <td>19</td>\n",
       "      <td>20</td>\n",
       "      <td>21.0</td>\n",
       "      <td>7.0</td>\n",
       "      <td>NaN</td>\n",
       "      <td>...</td>\n",
       "      <td>0</td>\n",
       "      <td>0</td>\n",
       "      <td>0</td>\n",
       "      <td>0</td>\n",
       "      <td>0</td>\n",
       "      <td>0</td>\n",
       "      <td>0</td>\n",
       "      <td>NaN</td>\n",
       "      <td>NaN</td>\n",
       "      <td>0</td>\n",
       "    </tr>\n",
       "  </tbody>\n",
       "</table>\n",
       "<p>5 rows × 381 columns</p>\n",
       "</div>"
      ],
      "text/plain": [
       "  packet_version_id id_ver_nmb  champs_id  dp_001  dp_002  dp_003 dp_004  \\\n",
       "0   ETAA00002_01_01      2.0.0  ETAA00002       5       1       2      3   \n",
       "1   ETAA00004_01_02      2.0.0  ETAA00004       5       1       2      3   \n",
       "2   ETAA00005_01_02      2.0.0  ETAA00005       5       1       2      3   \n",
       "3   ETAA00008_01_04      2.0.0  ETAA00008       5       1       2      3   \n",
       "4   ETAA00009_01_01      2.0.0  ETAA00009       5      18      19     20   \n",
       "\n",
       "   dp_005  dp_006  dp_007  ...  dpf_012___ch00040  dpf_012___ch00041  \\\n",
       "0     4.0     5.0     6.0  ...                  0                  0   \n",
       "1     4.0     5.0     6.0  ...                  0                  0   \n",
       "2     4.0     5.0     6.0  ...                  0                  0   \n",
       "3     4.0     5.0     6.0  ...                  0                  0   \n",
       "4    21.0     7.0     NaN  ...                  0                  0   \n",
       "\n",
       "   dpf_012___ch00042  dpf_012___ch00043 dpf_012___ch01424 dpf_012___ch01875  \\\n",
       "0                  0                  0                 0                 0   \n",
       "1                  0                  0                 0                 0   \n",
       "2                  0                  0                 0                 0   \n",
       "3                  0                  0                 0                 0   \n",
       "4                  0                  0                 0                 0   \n",
       "\n",
       "  dpf_012___ch00010                                            dpf_013  \\\n",
       "0                 0                          Tseyon Tesfaye Clinical     \n",
       "1                 0  Adugna (SBS team), Tigistu (counselor), Tseyon...   \n",
       "2                 0  Adugna (SBS team), Tigistu (counselor), Tseyon...   \n",
       "3                 0  Abdurahman Yonis(HO), Eyoel Taye(counselor), G...   \n",
       "4                 0                                                NaN   \n",
       "\n",
       "                                             dpf_014  \\\n",
       "0                                               None   \n",
       "1                                                NaN   \n",
       "2                                               None   \n",
       "3  The family leaves in a refugee camp and even t...   \n",
       "4                                                NaN   \n",
       "\n",
       "  crf_060302_decode_panel_feedback_form_complete  \n",
       "0                                              2  \n",
       "1                                              2  \n",
       "2                                              2  \n",
       "3                                              2  \n",
       "4                                              0  \n",
       "\n",
       "[5 rows x 381 columns]"
      ]
     },
     "execution_count": 2,
     "metadata": {},
     "output_type": "execute_result"
    }
   ],
   "source": [
    "df = pd.read_csv('CHAMPS.csv')\n",
    "df.head()"
   ]
  },
  {
   "cell_type": "markdown",
   "id": "38326d4a",
   "metadata": {},
   "source": [
    "# Custom Scorer Function \n",
    "\n",
    "The following code defines a custom scoring function named custom_scorer. This function is designed to handle potential exceptions that may occur during the calculation of a specified scoring metric"
   ]
  },
  {
   "cell_type": "markdown",
   "id": "6ff06411",
   "metadata": {},
   "source": [
    "# MCC\n",
    "\n",
    "* The Matthews Correlation Coefficient (MCC) is a metric used for evaluating the performance of binary and multiclass classification models. It takes into account true positive (TP), true negative(TN), false positive (FP), and false negative (FN) values and produces a score between -1 and +1 "
   ]
  },
  {
   "cell_type": "code",
   "execution_count": 3,
   "id": "471c6183",
   "metadata": {},
   "outputs": [],
   "source": [
    "def custom_scorer(y_true, y_pred, actual_scorer):\n",
    "    score=np.nan\n",
    "    try: score=actual_score(y_true,y_pred)\n",
    "    except Exception:pass\n",
    "    return score\n",
    "mcc=make_scorer(custom_scorer,actual_scorer=matthews_corrcoef)"
   ]
  },
  {
   "cell_type": "markdown",
   "id": "15a58930",
   "metadata": {},
   "source": [
    "# EDA\n",
    "\n",
    "Now we can load the datset and do the exploratory data analysis"
   ]
  },
  {
   "cell_type": "code",
   "execution_count": 4,
   "id": "34017557",
   "metadata": {},
   "outputs": [
    {
     "data": {
      "text/html": [
       "<div>\n",
       "<style scoped>\n",
       "    .dataframe tbody tr th:only-of-type {\n",
       "        vertical-align: middle;\n",
       "    }\n",
       "\n",
       "    .dataframe tbody tr th {\n",
       "        vertical-align: top;\n",
       "    }\n",
       "\n",
       "    .dataframe thead th {\n",
       "        text-align: right;\n",
       "    }\n",
       "</style>\n",
       "<table border=\"1\" class=\"dataframe\">\n",
       "  <thead>\n",
       "    <tr style=\"text-align: right;\">\n",
       "      <th></th>\n",
       "      <th>packet_version_id</th>\n",
       "      <th>id_ver_nmb</th>\n",
       "      <th>champs_id</th>\n",
       "      <th>dp_001</th>\n",
       "      <th>dp_002</th>\n",
       "      <th>dp_003</th>\n",
       "      <th>dp_004</th>\n",
       "      <th>dp_005</th>\n",
       "      <th>dp_006</th>\n",
       "      <th>dp_007</th>\n",
       "      <th>...</th>\n",
       "      <th>dpf_012___ch00040</th>\n",
       "      <th>dpf_012___ch00041</th>\n",
       "      <th>dpf_012___ch00042</th>\n",
       "      <th>dpf_012___ch00043</th>\n",
       "      <th>dpf_012___ch01424</th>\n",
       "      <th>dpf_012___ch01875</th>\n",
       "      <th>dpf_012___ch00010</th>\n",
       "      <th>dpf_013</th>\n",
       "      <th>dpf_014</th>\n",
       "      <th>crf_060302_decode_panel_feedback_form_complete</th>\n",
       "    </tr>\n",
       "  </thead>\n",
       "  <tbody>\n",
       "    <tr>\n",
       "      <th>0</th>\n",
       "      <td>ETAA00002_01_01</td>\n",
       "      <td>2.0.0</td>\n",
       "      <td>ETAA00002</td>\n",
       "      <td>5</td>\n",
       "      <td>1</td>\n",
       "      <td>2</td>\n",
       "      <td>3</td>\n",
       "      <td>4.0</td>\n",
       "      <td>5.0</td>\n",
       "      <td>6.0</td>\n",
       "      <td>...</td>\n",
       "      <td>0</td>\n",
       "      <td>0</td>\n",
       "      <td>0</td>\n",
       "      <td>0</td>\n",
       "      <td>0</td>\n",
       "      <td>0</td>\n",
       "      <td>0</td>\n",
       "      <td>Tseyon Tesfaye Clinical</td>\n",
       "      <td>None</td>\n",
       "      <td>2</td>\n",
       "    </tr>\n",
       "    <tr>\n",
       "      <th>1</th>\n",
       "      <td>ETAA00004_01_02</td>\n",
       "      <td>2.0.0</td>\n",
       "      <td>ETAA00004</td>\n",
       "      <td>5</td>\n",
       "      <td>1</td>\n",
       "      <td>2</td>\n",
       "      <td>3</td>\n",
       "      <td>4.0</td>\n",
       "      <td>5.0</td>\n",
       "      <td>6.0</td>\n",
       "      <td>...</td>\n",
       "      <td>0</td>\n",
       "      <td>0</td>\n",
       "      <td>0</td>\n",
       "      <td>0</td>\n",
       "      <td>0</td>\n",
       "      <td>0</td>\n",
       "      <td>0</td>\n",
       "      <td>Adugna (SBS team), Tigistu (counselor), Tseyon...</td>\n",
       "      <td>NaN</td>\n",
       "      <td>2</td>\n",
       "    </tr>\n",
       "    <tr>\n",
       "      <th>2</th>\n",
       "      <td>ETAA00005_01_02</td>\n",
       "      <td>2.0.0</td>\n",
       "      <td>ETAA00005</td>\n",
       "      <td>5</td>\n",
       "      <td>1</td>\n",
       "      <td>2</td>\n",
       "      <td>3</td>\n",
       "      <td>4.0</td>\n",
       "      <td>5.0</td>\n",
       "      <td>6.0</td>\n",
       "      <td>...</td>\n",
       "      <td>0</td>\n",
       "      <td>0</td>\n",
       "      <td>0</td>\n",
       "      <td>0</td>\n",
       "      <td>0</td>\n",
       "      <td>0</td>\n",
       "      <td>0</td>\n",
       "      <td>Adugna (SBS team), Tigistu (counselor), Tseyon...</td>\n",
       "      <td>None</td>\n",
       "      <td>2</td>\n",
       "    </tr>\n",
       "  </tbody>\n",
       "</table>\n",
       "<p>3 rows × 381 columns</p>\n",
       "</div>"
      ],
      "text/plain": [
       "  packet_version_id id_ver_nmb  champs_id  dp_001  dp_002  dp_003 dp_004  \\\n",
       "0   ETAA00002_01_01      2.0.0  ETAA00002       5       1       2      3   \n",
       "1   ETAA00004_01_02      2.0.0  ETAA00004       5       1       2      3   \n",
       "2   ETAA00005_01_02      2.0.0  ETAA00005       5       1       2      3   \n",
       "\n",
       "   dp_005  dp_006  dp_007  ...  dpf_012___ch00040  dpf_012___ch00041  \\\n",
       "0     4.0     5.0     6.0  ...                  0                  0   \n",
       "1     4.0     5.0     6.0  ...                  0                  0   \n",
       "2     4.0     5.0     6.0  ...                  0                  0   \n",
       "\n",
       "   dpf_012___ch00042  dpf_012___ch00043 dpf_012___ch01424 dpf_012___ch01875  \\\n",
       "0                  0                  0                 0                 0   \n",
       "1                  0                  0                 0                 0   \n",
       "2                  0                  0                 0                 0   \n",
       "\n",
       "  dpf_012___ch00010                                            dpf_013  \\\n",
       "0                 0                          Tseyon Tesfaye Clinical     \n",
       "1                 0  Adugna (SBS team), Tigistu (counselor), Tseyon...   \n",
       "2                 0  Adugna (SBS team), Tigistu (counselor), Tseyon...   \n",
       "\n",
       "  dpf_014 crf_060302_decode_panel_feedback_form_complete  \n",
       "0    None                                              2  \n",
       "1     NaN                                              2  \n",
       "2    None                                              2  \n",
       "\n",
       "[3 rows x 381 columns]"
      ]
     },
     "execution_count": 4,
     "metadata": {},
     "output_type": "execute_result"
    }
   ],
   "source": [
    "import pandas as pd\n",
    "df = pd.read_csv('CHAMPS.csv',engine=\"python\")\n",
    "#df=df.dropna()\n",
    "df.head(3)"
   ]
  },
  {
   "cell_type": "markdown",
   "id": "67a0765d",
   "metadata": {},
   "source": [
    "# Check number of columns and rows"
   ]
  },
  {
   "cell_type": "code",
   "execution_count": 5,
   "id": "79a6da48",
   "metadata": {},
   "outputs": [
    {
     "name": "stdout",
     "output_type": "stream",
     "text": [
      "The dataset has 444 rows and 381 columns.\n"
     ]
    }
   ],
   "source": [
    "print(f\"The dataset has {df.shape[0]} rows and {df.shape[1]} columns.\")"
   ]
  },
  {
   "cell_type": "markdown",
   "id": "eae18a78",
   "metadata": {},
   "source": [
    "# Enumerate the columns of the dataset:"
   ]
  },
  {
   "cell_type": "code",
   "execution_count": 6,
   "id": "d21d120c",
   "metadata": {},
   "outputs": [
    {
     "data": {
      "text/plain": [
       "Index(['packet_version_id', 'id_ver_nmb', 'champs_id', 'dp_001', 'dp_002',\n",
       "       'dp_003', 'dp_004', 'dp_005', 'dp_006', 'dp_007',\n",
       "       ...\n",
       "       'dpf_012___ch00040', 'dpf_012___ch00041', 'dpf_012___ch00042',\n",
       "       'dpf_012___ch00043', 'dpf_012___ch01424', 'dpf_012___ch01875',\n",
       "       'dpf_012___ch00010', 'dpf_013', 'dpf_014',\n",
       "       'crf_060302_decode_panel_feedback_form_complete'],\n",
       "      dtype='object', length=381)"
      ]
     },
     "execution_count": 6,
     "metadata": {},
     "output_type": "execute_result"
    }
   ],
   "source": [
    "df.columns"
   ]
  },
  {
   "cell_type": "markdown",
   "id": "e2f81bec",
   "metadata": {},
   "source": [
    "# Rename Columns"
   ]
  },
  {
   "cell_type": "code",
   "execution_count": 7,
   "id": "a685063c",
   "metadata": {},
   "outputs": [],
   "source": [
    "df = df.rename(columns={'dp_013': 'case_type', 'dp_108': 'underlying_cause', 'dp_118': 'maternal_factor'})"
   ]
  },
  {
   "cell_type": "code",
   "execution_count": 8,
   "id": "7967392d",
   "metadata": {},
   "outputs": [
    {
     "data": {
      "text/plain": [
       "Index(['packet_version_id', 'id_ver_nmb', 'champs_id', 'dp_001', 'dp_002',\n",
       "       'dp_003', 'dp_004', 'dp_005', 'dp_006', 'dp_007',\n",
       "       ...\n",
       "       'dpf_012___ch00040', 'dpf_012___ch00041', 'dpf_012___ch00042',\n",
       "       'dpf_012___ch00043', 'dpf_012___ch01424', 'dpf_012___ch01875',\n",
       "       'dpf_012___ch00010', 'dpf_013', 'dpf_014',\n",
       "       'crf_060302_decode_panel_feedback_form_complete'],\n",
       "      dtype='object', length=381)"
      ]
     },
     "execution_count": 8,
     "metadata": {},
     "output_type": "execute_result"
    }
   ],
   "source": [
    "df.columns"
   ]
  },
  {
   "cell_type": "markdown",
   "id": "27c543ff",
   "metadata": {},
   "source": [
    "# Rename the values in the 'case_type' column:"
   ]
  },
  {
   "cell_type": "code",
   "execution_count": 9,
   "id": "42395422",
   "metadata": {},
   "outputs": [],
   "source": [
    "df['case_type'] = df['case_type'].replace({'CH00716': 'Stillbirth', \n",
    "                                           'CH01404': 'Death in the first 24 hours',\n",
    "                                           'CH01405': 'Early Neonate (1 to 6 days)', \n",
    "                                           'CH01406': 'Late Neonate (7 to 27 days)',\n",
    "                                           'CH00718': 'Infant (28 days to less than 12 months)',\n",
    "                                           'CH00719': 'Child (12 months to less than 60 months)'})"
   ]
  },
  {
   "cell_type": "code",
   "execution_count": 10,
   "id": "2bf7d3fb",
   "metadata": {},
   "outputs": [
    {
     "data": {
      "text/html": [
       "<div>\n",
       "<style scoped>\n",
       "    .dataframe tbody tr th:only-of-type {\n",
       "        vertical-align: middle;\n",
       "    }\n",
       "\n",
       "    .dataframe tbody tr th {\n",
       "        vertical-align: top;\n",
       "    }\n",
       "\n",
       "    .dataframe thead th {\n",
       "        text-align: right;\n",
       "    }\n",
       "</style>\n",
       "<table border=\"1\" class=\"dataframe\">\n",
       "  <thead>\n",
       "    <tr style=\"text-align: right;\">\n",
       "      <th></th>\n",
       "      <th>champs_id</th>\n",
       "      <th>case_type</th>\n",
       "      <th>underlying_cause</th>\n",
       "      <th>maternal_factor</th>\n",
       "    </tr>\n",
       "  </thead>\n",
       "  <tbody>\n",
       "    <tr>\n",
       "      <th>0</th>\n",
       "      <td>ETAA00002</td>\n",
       "      <td>Stillbirth</td>\n",
       "      <td>Undetermined</td>\n",
       "      <td>Undetermined</td>\n",
       "    </tr>\n",
       "    <tr>\n",
       "      <th>1</th>\n",
       "      <td>ETAA00004</td>\n",
       "      <td>Stillbirth</td>\n",
       "      <td>Undetermined</td>\n",
       "      <td>Undetermined</td>\n",
       "    </tr>\n",
       "    <tr>\n",
       "      <th>2</th>\n",
       "      <td>ETAA00005</td>\n",
       "      <td>Stillbirth</td>\n",
       "      <td>Intrauterine hypoxia</td>\n",
       "      <td>Fetus and newborn affected by other forms of p...</td>\n",
       "    </tr>\n",
       "    <tr>\n",
       "      <th>3</th>\n",
       "      <td>ETAA00008</td>\n",
       "      <td>Child (12 months to less than 60 months)</td>\n",
       "      <td>Severe acute malnutrition - Kwashiorkor</td>\n",
       "      <td>NaN</td>\n",
       "    </tr>\n",
       "    <tr>\n",
       "      <th>4</th>\n",
       "      <td>ETAA00009</td>\n",
       "      <td>Late Neonate (7 to 27 days)</td>\n",
       "      <td>Sepsis</td>\n",
       "      <td>NaN</td>\n",
       "    </tr>\n",
       "  </tbody>\n",
       "</table>\n",
       "</div>"
      ],
      "text/plain": [
       "   champs_id                                 case_type  \\\n",
       "0  ETAA00002                                Stillbirth   \n",
       "1  ETAA00004                                Stillbirth   \n",
       "2  ETAA00005                                Stillbirth   \n",
       "3  ETAA00008  Child (12 months to less than 60 months)   \n",
       "4  ETAA00009               Late Neonate (7 to 27 days)   \n",
       "\n",
       "                          underlying_cause  \\\n",
       "0                             Undetermined   \n",
       "1                             Undetermined   \n",
       "2                     Intrauterine hypoxia   \n",
       "3  Severe acute malnutrition - Kwashiorkor   \n",
       "4                                   Sepsis   \n",
       "\n",
       "                                     maternal_factor  \n",
       "0                                       Undetermined  \n",
       "1                                       Undetermined  \n",
       "2  Fetus and newborn affected by other forms of p...  \n",
       "3                                                NaN  \n",
       "4                                                NaN  "
      ]
     },
     "execution_count": 10,
     "metadata": {},
     "output_type": "execute_result"
    }
   ],
   "source": [
    "data=df[['champs_id','case_type','underlying_cause', 'maternal_factor']]\n",
    "data.head()"
   ]
  },
  {
   "cell_type": "markdown",
   "id": "c4ebdb3b",
   "metadata": {},
   "source": [
    "# show the proportion of null values in each column:"
   ]
  },
  {
   "cell_type": "code",
   "execution_count": 12,
   "id": "2f8c3842",
   "metadata": {},
   "outputs": [
    {
     "name": "stdout",
     "output_type": "stream",
     "text": [
      "champs_id           0.000000\n",
      "case_type           0.000000\n",
      "underlying_cause    0.000000\n",
      "maternal_factor     0.556306\n",
      "dtype: float64\n"
     ]
    }
   ],
   "source": [
    "print(data.isnull().mean())"
   ]
  },
  {
   "cell_type": "code",
   "execution_count": 14,
   "id": "c44b0e77",
   "metadata": {},
   "outputs": [],
   "source": [
    "data=data.dropna()"
   ]
  },
  {
   "cell_type": "code",
   "execution_count": 15,
   "id": "734574e2",
   "metadata": {},
   "outputs": [
    {
     "data": {
      "text/html": [
       "<div>\n",
       "<style scoped>\n",
       "    .dataframe tbody tr th:only-of-type {\n",
       "        vertical-align: middle;\n",
       "    }\n",
       "\n",
       "    .dataframe tbody tr th {\n",
       "        vertical-align: top;\n",
       "    }\n",
       "\n",
       "    .dataframe thead th {\n",
       "        text-align: right;\n",
       "    }\n",
       "</style>\n",
       "<table border=\"1\" class=\"dataframe\">\n",
       "  <thead>\n",
       "    <tr style=\"text-align: right;\">\n",
       "      <th></th>\n",
       "      <th>champs_id</th>\n",
       "      <th>case_type</th>\n",
       "      <th>underlying_cause</th>\n",
       "      <th>maternal_factor</th>\n",
       "    </tr>\n",
       "  </thead>\n",
       "  <tbody>\n",
       "    <tr>\n",
       "      <th>0</th>\n",
       "      <td>ETAA00002</td>\n",
       "      <td>Stillbirth</td>\n",
       "      <td>Undetermined</td>\n",
       "      <td>Undetermined</td>\n",
       "    </tr>\n",
       "    <tr>\n",
       "      <th>1</th>\n",
       "      <td>ETAA00004</td>\n",
       "      <td>Stillbirth</td>\n",
       "      <td>Undetermined</td>\n",
       "      <td>Undetermined</td>\n",
       "    </tr>\n",
       "    <tr>\n",
       "      <th>2</th>\n",
       "      <td>ETAA00005</td>\n",
       "      <td>Stillbirth</td>\n",
       "      <td>Intrauterine hypoxia</td>\n",
       "      <td>Fetus and newborn affected by other forms of p...</td>\n",
       "    </tr>\n",
       "    <tr>\n",
       "      <th>7</th>\n",
       "      <td>ETAA00017</td>\n",
       "      <td>Stillbirth</td>\n",
       "      <td>Intrauterine hypoxia</td>\n",
       "      <td>Fetus and newborn affected by other forms of p...</td>\n",
       "    </tr>\n",
       "    <tr>\n",
       "      <th>8</th>\n",
       "      <td>ETAA00018</td>\n",
       "      <td>Stillbirth</td>\n",
       "      <td>Intrauterine hypoxia</td>\n",
       "      <td>Uterine rupture</td>\n",
       "    </tr>\n",
       "  </tbody>\n",
       "</table>\n",
       "</div>"
      ],
      "text/plain": [
       "   champs_id   case_type      underlying_cause  \\\n",
       "0  ETAA00002  Stillbirth          Undetermined   \n",
       "1  ETAA00004  Stillbirth          Undetermined   \n",
       "2  ETAA00005  Stillbirth  Intrauterine hypoxia   \n",
       "7  ETAA00017  Stillbirth  Intrauterine hypoxia   \n",
       "8  ETAA00018  Stillbirth  Intrauterine hypoxia   \n",
       "\n",
       "                                     maternal_factor  \n",
       "0                                       Undetermined  \n",
       "1                                       Undetermined  \n",
       "2  Fetus and newborn affected by other forms of p...  \n",
       "7  Fetus and newborn affected by other forms of p...  \n",
       "8                                    Uterine rupture  "
      ]
     },
     "execution_count": 15,
     "metadata": {},
     "output_type": "execute_result"
    }
   ],
   "source": [
    "data.head()"
   ]
  },
  {
   "cell_type": "markdown",
   "id": "9fdcfd6b",
   "metadata": {},
   "source": [
    "# 2. Descriptive Data Analysis:-\n",
    "\n",
    "* A. Magnitude and proportion of each infant underlying cause for child death:"
   ]
  },
  {
   "cell_type": "code",
   "execution_count": 17,
   "id": "1793fb23",
   "metadata": {},
   "outputs": [
    {
     "name": "stdout",
     "output_type": "stream",
     "text": [
      "Intrauterine hypoxia                        0.497462\n",
      "Birth asphyxia                              0.086294\n",
      "Respiratory distress syndrome               0.065990\n",
      "Intrauterine growth restriction             0.040609\n",
      "Low birth weight                            0.030457\n",
      "Preterm infant                              0.025381\n",
      "Preterm baby                                0.025381\n",
      "Sepsis                                      0.025381\n",
      "Undetermined                                0.020305\n",
      "Hyaline membrane disease                    0.020305\n",
      "Intrauterine hypoxia                        0.015228\n",
      "Intrauterine growth restriction             0.010152\n",
      "Meconium aspiration syndrome                0.010152\n",
      "Intrauterine infection                      0.010152\n",
      "Bacterial sepsis of newborn                 0.010152\n",
      "Preterm                                     0.010152\n",
      "Intrauterine Hyopxia                        0.005076\n",
      "intrauterine hypoxia                        0.005076\n",
      " Preterm baby                               0.005076\n",
      "Light for Gestational Age                   0.005076\n",
      "Thoracic spina bifida with hydrocephalus    0.005076\n",
      "Intrauterine Hypoxia                        0.005076\n",
      "Neural tube defect -Lumbar spina bifida     0.005076\n",
      "Pneumonia                                   0.005076\n",
      "Extreme immaturity                          0.005076\n",
      "Intrauterine hypixa                         0.005076\n",
      "Low birth weigth                            0.005076\n",
      "Congenital CMV infection                    0.005076\n",
      "Respiratory distress syndrome/HMD           0.005076\n",
      "Severe acute malnutrition                   0.005076\n",
      "Severe acute malnutrition (Marasmus)        0.005076\n",
      "RH isoimmuzation                            0.005076\n",
      "Polycystic kidney disease                   0.005076\n",
      "Retardation intrauterine growth             0.005076\n",
      "Hydrocephalus                               0.005076\n",
      "Name: underlying_cause, dtype: float64\n"
     ]
    }
   ],
   "source": [
    "# Magnitude and proportion of each infant underlying cause for child death:\")\n",
    "print(data['underlying_cause'].value_counts(normalize=True))"
   ]
  },
  {
   "cell_type": "markdown",
   "id": "ef2e356e",
   "metadata": {},
   "source": [
    "* B. Proportion and magnitude of maternal factors contributing to child death:"
   ]
  },
  {
   "cell_type": "code",
   "execution_count": 19,
   "id": "9db8e890",
   "metadata": {},
   "outputs": [
    {
     "name": "stdout",
     "output_type": "stream",
     "text": [
      "Proportion and magnitude of the maternal factors contributing to child death:\n",
      "Preeclampsia                                                                                             0.182741\n",
      "Twin pregnancy                                                                                           0.060914\n",
      "Fetus and newborn affected by other forms of placental separation and hemorrhage (Abruption placenta)    0.055838\n",
      "Eclampsia                                                                                                0.045685\n",
      "Fetus and newborn affected by other forms of placental separation and hemorrhage                         0.025381\n",
      "                                                                                                           ...   \n",
      "Fetus and newborn affected by oligohydramnios                                                            0.005076\n",
      "Fetus and newborn affected by maternal diabetes                                                          0.005076\n",
      "Fetus and newborn affected by maternal infectious and parasitic diseases (HIV)                           0.005076\n",
      "Fetus and newborn affected by multiple pregnancy:  Quadruplet (pregnancy),                               0.005076\n",
      "Pre-labor rapture of membrane                                                                            0.005076\n",
      "Name: maternal_factor, Length: 97, dtype: float64\n"
     ]
    }
   ],
   "source": [
    "print(\"Proportion and magnitude of the maternal factors contributing to child death:\")\n",
    "print(df['maternal_factor'].value_counts(normalize=True))"
   ]
  },
  {
   "cell_type": "markdown",
   "id": "d947f815",
   "metadata": {},
   "source": [
    "* C.Proportion of the child death by the case type"
   ]
  },
  {
   "cell_type": "code",
   "execution_count": 21,
   "id": "709f09c0",
   "metadata": {},
   "outputs": [
    {
     "name": "stdout",
     "output_type": "stream",
     "text": [
      "Proportion of the child death by the case type:\n",
      "Stillbirth                                  0.538288\n",
      "Death in the first 24 hours                 0.155405\n",
      "Early Neonate (1 to 6 days)                 0.110360\n",
      "Child (12 months to less than 60 months)    0.094595\n",
      "Infant (28 days to less than 12 months)     0.060811\n",
      "Late Neonate (7 to 27 days)                 0.040541\n",
      "Name: case_type, dtype: float64\n"
     ]
    }
   ],
   "source": [
    "print(\"Proportion of the child death by the case type:\")\n",
    "print(df['case_type'].value_counts(normalize=True))"
   ]
  },
  {
   "cell_type": "markdown",
   "id": "4c6863c6",
   "metadata": {},
   "source": [
    "# 3.Correlation Analysis\n",
    "\n",
    "* Before we analysis correlation we need to encode some variables in the given data"
   ]
  },
  {
   "cell_type": "code",
   "execution_count": 23,
   "id": "acfb4083",
   "metadata": {},
   "outputs": [],
   "source": [
    "# Create the new features\n",
    "data['intrauterine_hypoxia'] = (data['underlying_cause'] == 'Intrauterine hypoxia').astype(int)\n",
    "data['birth_asphyxia'] = (data['underlying_cause'] == 'Birth asphyxia').astype(int)\n",
    "data['undetermined'] = (data['underlying_cause'] == 'Undetermined').astype(int)\n",
    "data['severe_acute_malnutrition'] = (data['underlying_cause'] == 'Severe acute malnutrition').astype(int)\n",
    "data['craniorachischisis'] = (data['underlying_cause'] == 'Craniorachischisis').astype(int)\n",
    "\n",
    "data['preeclampsia'] = (data['maternal_factor'] == 'Preeclampsia').astype(int)\n",
    "data['twin_pregnancy'] = (data['maternal_factor'] == 'Twin pregnancy').astype(int)\n",
    "data['abruption_placenta'] = (data['maternal_factor'] == 'Fetus and newborn affected by other forms of placental separation and hemorrhage (Abruption placenta)').astype(int)\n",
    "data['eclampsia'] = (data['maternal_factor'] == 'Eclampsia').astype(int)\n",
    "data['placental_issues'] = (data['maternal_factor'] == 'Placental issues').astype(int)"
   ]
  },
  {
   "cell_type": "code",
   "execution_count": 25,
   "id": "d80b0876",
   "metadata": {},
   "outputs": [],
   "source": [
    "# Assuming your data is in a DataFrame called 'df'\n",
    "data['child_death'] = 0\n",
    "data.loc[data['case_type'].isin(['Stillbirth', 'Death_in_first_24_hours', 'Early_Neonate_1_to_6_days', \n",
    "                            'Child_12_months_to_less_than_60_months', 'Infant_28_days_to_less_than_12_months', \n",
    "                            'Late_Neonate_7_to_27_days']), 'child_death'] = 1"
   ]
  },
  {
   "cell_type": "code",
   "execution_count": 29,
   "id": "31802080",
   "metadata": {},
   "outputs": [
    {
     "data": {
      "text/html": [
       "<div>\n",
       "<style scoped>\n",
       "    .dataframe tbody tr th:only-of-type {\n",
       "        vertical-align: middle;\n",
       "    }\n",
       "\n",
       "    .dataframe tbody tr th {\n",
       "        vertical-align: top;\n",
       "    }\n",
       "\n",
       "    .dataframe thead th {\n",
       "        text-align: right;\n",
       "    }\n",
       "</style>\n",
       "<table border=\"1\" class=\"dataframe\">\n",
       "  <thead>\n",
       "    <tr style=\"text-align: right;\">\n",
       "      <th></th>\n",
       "      <th>champs_id</th>\n",
       "      <th>case_type</th>\n",
       "      <th>underlying_cause</th>\n",
       "      <th>maternal_factor</th>\n",
       "      <th>intrauterine_hypoxia</th>\n",
       "      <th>birth_asphyxia</th>\n",
       "      <th>undetermined</th>\n",
       "      <th>severe_acute_malnutrition</th>\n",
       "      <th>craniorachischisis</th>\n",
       "      <th>preeclampsia</th>\n",
       "      <th>twin_pregnancy</th>\n",
       "      <th>abruption_placenta</th>\n",
       "      <th>eclampsia</th>\n",
       "      <th>placental_issues</th>\n",
       "      <th>child_death</th>\n",
       "    </tr>\n",
       "  </thead>\n",
       "  <tbody>\n",
       "    <tr>\n",
       "      <th>0</th>\n",
       "      <td>ETAA00002</td>\n",
       "      <td>Stillbirth</td>\n",
       "      <td>Undetermined</td>\n",
       "      <td>Undetermined</td>\n",
       "      <td>0</td>\n",
       "      <td>0</td>\n",
       "      <td>1</td>\n",
       "      <td>0</td>\n",
       "      <td>0</td>\n",
       "      <td>0</td>\n",
       "      <td>0</td>\n",
       "      <td>0</td>\n",
       "      <td>0</td>\n",
       "      <td>0</td>\n",
       "      <td>1</td>\n",
       "    </tr>\n",
       "    <tr>\n",
       "      <th>1</th>\n",
       "      <td>ETAA00004</td>\n",
       "      <td>Stillbirth</td>\n",
       "      <td>Undetermined</td>\n",
       "      <td>Undetermined</td>\n",
       "      <td>0</td>\n",
       "      <td>0</td>\n",
       "      <td>1</td>\n",
       "      <td>0</td>\n",
       "      <td>0</td>\n",
       "      <td>0</td>\n",
       "      <td>0</td>\n",
       "      <td>0</td>\n",
       "      <td>0</td>\n",
       "      <td>0</td>\n",
       "      <td>1</td>\n",
       "    </tr>\n",
       "    <tr>\n",
       "      <th>2</th>\n",
       "      <td>ETAA00005</td>\n",
       "      <td>Stillbirth</td>\n",
       "      <td>Intrauterine hypoxia</td>\n",
       "      <td>Fetus and newborn affected by other forms of p...</td>\n",
       "      <td>1</td>\n",
       "      <td>0</td>\n",
       "      <td>0</td>\n",
       "      <td>0</td>\n",
       "      <td>0</td>\n",
       "      <td>0</td>\n",
       "      <td>0</td>\n",
       "      <td>0</td>\n",
       "      <td>0</td>\n",
       "      <td>0</td>\n",
       "      <td>1</td>\n",
       "    </tr>\n",
       "    <tr>\n",
       "      <th>7</th>\n",
       "      <td>ETAA00017</td>\n",
       "      <td>Stillbirth</td>\n",
       "      <td>Intrauterine hypoxia</td>\n",
       "      <td>Fetus and newborn affected by other forms of p...</td>\n",
       "      <td>1</td>\n",
       "      <td>0</td>\n",
       "      <td>0</td>\n",
       "      <td>0</td>\n",
       "      <td>0</td>\n",
       "      <td>0</td>\n",
       "      <td>0</td>\n",
       "      <td>0</td>\n",
       "      <td>0</td>\n",
       "      <td>0</td>\n",
       "      <td>1</td>\n",
       "    </tr>\n",
       "    <tr>\n",
       "      <th>8</th>\n",
       "      <td>ETAA00018</td>\n",
       "      <td>Stillbirth</td>\n",
       "      <td>Intrauterine hypoxia</td>\n",
       "      <td>Uterine rupture</td>\n",
       "      <td>1</td>\n",
       "      <td>0</td>\n",
       "      <td>0</td>\n",
       "      <td>0</td>\n",
       "      <td>0</td>\n",
       "      <td>0</td>\n",
       "      <td>0</td>\n",
       "      <td>0</td>\n",
       "      <td>0</td>\n",
       "      <td>0</td>\n",
       "      <td>1</td>\n",
       "    </tr>\n",
       "  </tbody>\n",
       "</table>\n",
       "</div>"
      ],
      "text/plain": [
       "   champs_id   case_type      underlying_cause  \\\n",
       "0  ETAA00002  Stillbirth          Undetermined   \n",
       "1  ETAA00004  Stillbirth          Undetermined   \n",
       "2  ETAA00005  Stillbirth  Intrauterine hypoxia   \n",
       "7  ETAA00017  Stillbirth  Intrauterine hypoxia   \n",
       "8  ETAA00018  Stillbirth  Intrauterine hypoxia   \n",
       "\n",
       "                                     maternal_factor  intrauterine_hypoxia  \\\n",
       "0                                       Undetermined                     0   \n",
       "1                                       Undetermined                     0   \n",
       "2  Fetus and newborn affected by other forms of p...                     1   \n",
       "7  Fetus and newborn affected by other forms of p...                     1   \n",
       "8                                    Uterine rupture                     1   \n",
       "\n",
       "   birth_asphyxia  undetermined  severe_acute_malnutrition  \\\n",
       "0               0             1                          0   \n",
       "1               0             1                          0   \n",
       "2               0             0                          0   \n",
       "7               0             0                          0   \n",
       "8               0             0                          0   \n",
       "\n",
       "   craniorachischisis  preeclampsia  twin_pregnancy  abruption_placenta  \\\n",
       "0                   0             0               0                   0   \n",
       "1                   0             0               0                   0   \n",
       "2                   0             0               0                   0   \n",
       "7                   0             0               0                   0   \n",
       "8                   0             0               0                   0   \n",
       "\n",
       "   eclampsia  placental_issues  child_death  \n",
       "0          0                 0            1  \n",
       "1          0                 0            1  \n",
       "2          0                 0            1  \n",
       "7          0                 0            1  \n",
       "8          0                 0            1  "
      ]
     },
     "execution_count": 29,
     "metadata": {},
     "output_type": "execute_result"
    }
   ],
   "source": [
    "data.head()"
   ]
  },
  {
   "cell_type": "code",
   "execution_count": 35,
   "id": "e13b08e0",
   "metadata": {},
   "outputs": [
    {
     "data": {
      "text/html": [
       "<div>\n",
       "<style scoped>\n",
       "    .dataframe tbody tr th:only-of-type {\n",
       "        vertical-align: middle;\n",
       "    }\n",
       "\n",
       "    .dataframe tbody tr th {\n",
       "        vertical-align: top;\n",
       "    }\n",
       "\n",
       "    .dataframe thead th {\n",
       "        text-align: right;\n",
       "    }\n",
       "</style>\n",
       "<table border=\"1\" class=\"dataframe\">\n",
       "  <thead>\n",
       "    <tr style=\"text-align: right;\">\n",
       "      <th></th>\n",
       "      <th>intrauterine_hypoxia</th>\n",
       "      <th>birth_asphyxia</th>\n",
       "      <th>undetermined</th>\n",
       "      <th>preeclampsia</th>\n",
       "      <th>twin_pregnancy</th>\n",
       "      <th>abruption_placenta</th>\n",
       "      <th>child_death</th>\n",
       "    </tr>\n",
       "  </thead>\n",
       "  <tbody>\n",
       "    <tr>\n",
       "      <th>0</th>\n",
       "      <td>0</td>\n",
       "      <td>0</td>\n",
       "      <td>1</td>\n",
       "      <td>0</td>\n",
       "      <td>0</td>\n",
       "      <td>0</td>\n",
       "      <td>1</td>\n",
       "    </tr>\n",
       "    <tr>\n",
       "      <th>1</th>\n",
       "      <td>0</td>\n",
       "      <td>0</td>\n",
       "      <td>1</td>\n",
       "      <td>0</td>\n",
       "      <td>0</td>\n",
       "      <td>0</td>\n",
       "      <td>1</td>\n",
       "    </tr>\n",
       "    <tr>\n",
       "      <th>2</th>\n",
       "      <td>1</td>\n",
       "      <td>0</td>\n",
       "      <td>0</td>\n",
       "      <td>0</td>\n",
       "      <td>0</td>\n",
       "      <td>0</td>\n",
       "      <td>1</td>\n",
       "    </tr>\n",
       "    <tr>\n",
       "      <th>7</th>\n",
       "      <td>1</td>\n",
       "      <td>0</td>\n",
       "      <td>0</td>\n",
       "      <td>0</td>\n",
       "      <td>0</td>\n",
       "      <td>0</td>\n",
       "      <td>1</td>\n",
       "    </tr>\n",
       "    <tr>\n",
       "      <th>8</th>\n",
       "      <td>1</td>\n",
       "      <td>0</td>\n",
       "      <td>0</td>\n",
       "      <td>0</td>\n",
       "      <td>0</td>\n",
       "      <td>0</td>\n",
       "      <td>1</td>\n",
       "    </tr>\n",
       "  </tbody>\n",
       "</table>\n",
       "</div>"
      ],
      "text/plain": [
       "   intrauterine_hypoxia  birth_asphyxia  undetermined  preeclampsia  \\\n",
       "0                     0               0             1             0   \n",
       "1                     0               0             1             0   \n",
       "2                     1               0             0             0   \n",
       "7                     1               0             0             0   \n",
       "8                     1               0             0             0   \n",
       "\n",
       "   twin_pregnancy  abruption_placenta  child_death  \n",
       "0               0                   0            1  \n",
       "1               0                   0            1  \n",
       "2               0                   0            1  \n",
       "7               0                   0            1  \n",
       "8               0                   0            1  "
      ]
     },
     "execution_count": 35,
     "metadata": {},
     "output_type": "execute_result"
    }
   ],
   "source": [
    "mydata=data[[\"intrauterine_hypoxia\",\"birth_asphyxia\",\"undetermined\",\n",
    "             \"preeclampsia\",\"twin_pregnancy\",\"abruption_placenta\",\n",
    "             \"child_death\"]]\n",
    "mydata.head()"
   ]
  },
  {
   "cell_type": "code",
   "execution_count": 36,
   "id": "8b962fef",
   "metadata": {},
   "outputs": [
    {
     "name": "stdout",
     "output_type": "stream",
     "text": [
      "<class 'pandas.core.frame.DataFrame'>\n",
      "Int64Index: 197 entries, 0 to 440\n",
      "Data columns (total 7 columns):\n",
      " #   Column                Non-Null Count  Dtype\n",
      "---  ------                --------------  -----\n",
      " 0   intrauterine_hypoxia  197 non-null    int64\n",
      " 1   birth_asphyxia        197 non-null    int64\n",
      " 2   undetermined          197 non-null    int64\n",
      " 3   preeclampsia          197 non-null    int64\n",
      " 4   twin_pregnancy        197 non-null    int64\n",
      " 5   abruption_placenta    197 non-null    int64\n",
      " 6   child_death           197 non-null    int64\n",
      "dtypes: int64(7)\n",
      "memory usage: 12.3 KB\n"
     ]
    }
   ],
   "source": [
    "mydata.info()"
   ]
  },
  {
   "cell_type": "code",
   "execution_count": 37,
   "id": "c31ee2c9",
   "metadata": {},
   "outputs": [
    {
     "data": {
      "text/html": [
       "<div>\n",
       "<style scoped>\n",
       "    .dataframe tbody tr th:only-of-type {\n",
       "        vertical-align: middle;\n",
       "    }\n",
       "\n",
       "    .dataframe tbody tr th {\n",
       "        vertical-align: top;\n",
       "    }\n",
       "\n",
       "    .dataframe thead th {\n",
       "        text-align: right;\n",
       "    }\n",
       "</style>\n",
       "<table border=\"1\" class=\"dataframe\">\n",
       "  <thead>\n",
       "    <tr style=\"text-align: right;\">\n",
       "      <th></th>\n",
       "      <th>intrauterine_hypoxia</th>\n",
       "      <th>birth_asphyxia</th>\n",
       "      <th>undetermined</th>\n",
       "      <th>preeclampsia</th>\n",
       "      <th>twin_pregnancy</th>\n",
       "      <th>abruption_placenta</th>\n",
       "      <th>child_death</th>\n",
       "    </tr>\n",
       "  </thead>\n",
       "  <tbody>\n",
       "    <tr>\n",
       "      <th>intrauterine_hypoxia</th>\n",
       "      <td>1.000000</td>\n",
       "      <td>-0.305762</td>\n",
       "      <td>-0.143234</td>\n",
       "      <td>0.081212</td>\n",
       "      <td>-0.126052</td>\n",
       "      <td>0.155992</td>\n",
       "      <td>0.600808</td>\n",
       "    </tr>\n",
       "    <tr>\n",
       "      <th>birth_asphyxia</th>\n",
       "      <td>-0.305762</td>\n",
       "      <td>1.000000</td>\n",
       "      <td>-0.044242</td>\n",
       "      <td>-0.004986</td>\n",
       "      <td>-0.078270</td>\n",
       "      <td>-0.074736</td>\n",
       "      <td>-0.387770</td>\n",
       "    </tr>\n",
       "    <tr>\n",
       "      <th>undetermined</th>\n",
       "      <td>-0.143234</td>\n",
       "      <td>-0.044242</td>\n",
       "      <td>1.000000</td>\n",
       "      <td>-0.068075</td>\n",
       "      <td>-0.036665</td>\n",
       "      <td>0.121739</td>\n",
       "      <td>0.114095</td>\n",
       "    </tr>\n",
       "    <tr>\n",
       "      <th>preeclampsia</th>\n",
       "      <td>0.081212</td>\n",
       "      <td>-0.004986</td>\n",
       "      <td>-0.068075</td>\n",
       "      <td>1.000000</td>\n",
       "      <td>-0.120432</td>\n",
       "      <td>-0.114995</td>\n",
       "      <td>0.104922</td>\n",
       "    </tr>\n",
       "    <tr>\n",
       "      <th>twin_pregnancy</th>\n",
       "      <td>-0.126052</td>\n",
       "      <td>-0.078270</td>\n",
       "      <td>-0.036665</td>\n",
       "      <td>-0.120432</td>\n",
       "      <td>1.000000</td>\n",
       "      <td>-0.061936</td>\n",
       "      <td>-0.146958</td>\n",
       "    </tr>\n",
       "    <tr>\n",
       "      <th>abruption_placenta</th>\n",
       "      <td>0.155992</td>\n",
       "      <td>-0.074736</td>\n",
       "      <td>0.121739</td>\n",
       "      <td>-0.114995</td>\n",
       "      <td>-0.061936</td>\n",
       "      <td>1.000000</td>\n",
       "      <td>0.101899</td>\n",
       "    </tr>\n",
       "    <tr>\n",
       "      <th>child_death</th>\n",
       "      <td>0.600808</td>\n",
       "      <td>-0.387770</td>\n",
       "      <td>0.114095</td>\n",
       "      <td>0.104922</td>\n",
       "      <td>-0.146958</td>\n",
       "      <td>0.101899</td>\n",
       "      <td>1.000000</td>\n",
       "    </tr>\n",
       "  </tbody>\n",
       "</table>\n",
       "</div>"
      ],
      "text/plain": [
       "                      intrauterine_hypoxia  birth_asphyxia  undetermined  \\\n",
       "intrauterine_hypoxia              1.000000       -0.305762     -0.143234   \n",
       "birth_asphyxia                   -0.305762        1.000000     -0.044242   \n",
       "undetermined                     -0.143234       -0.044242      1.000000   \n",
       "preeclampsia                      0.081212       -0.004986     -0.068075   \n",
       "twin_pregnancy                   -0.126052       -0.078270     -0.036665   \n",
       "abruption_placenta                0.155992       -0.074736      0.121739   \n",
       "child_death                       0.600808       -0.387770      0.114095   \n",
       "\n",
       "                      preeclampsia  twin_pregnancy  abruption_placenta  \\\n",
       "intrauterine_hypoxia      0.081212       -0.126052            0.155992   \n",
       "birth_asphyxia           -0.004986       -0.078270           -0.074736   \n",
       "undetermined             -0.068075       -0.036665            0.121739   \n",
       "preeclampsia              1.000000       -0.120432           -0.114995   \n",
       "twin_pregnancy           -0.120432        1.000000           -0.061936   \n",
       "abruption_placenta       -0.114995       -0.061936            1.000000   \n",
       "child_death               0.104922       -0.146958            0.101899   \n",
       "\n",
       "                      child_death  \n",
       "intrauterine_hypoxia     0.600808  \n",
       "birth_asphyxia          -0.387770  \n",
       "undetermined             0.114095  \n",
       "preeclampsia             0.104922  \n",
       "twin_pregnancy          -0.146958  \n",
       "abruption_placenta       0.101899  \n",
       "child_death              1.000000  "
      ]
     },
     "execution_count": 37,
     "metadata": {},
     "output_type": "execute_result"
    }
   ],
   "source": [
    "mydata.corr()"
   ]
  },
  {
   "cell_type": "code",
   "execution_count": 38,
   "id": "bb02b48e",
   "metadata": {},
   "outputs": [
    {
     "data": {
      "image/png": "[encoded data removed]",
      "text/plain": [
       "<Figure size 720x432 with 2 Axes>"
      ]
     },
     "metadata": {
      "needs_background": "light"
     },
     "output_type": "display_data"
    }
   ],
   "source": [
    "corr_matrix = mydata.corr()\n",
    "\n",
    "# Create the heatmap\n",
    "plt.figure(figsize=(10,6))\n",
    "sns.heatmap(corr_matrix, annot=True, cmap='YlOrRd', vmin=-1, vmax=1)\n",
    "plt.title('Correlation Heatmap')\n",
    "plt.xticks(rotation=90)\n",
    "plt.yticks(rotation=0)\n",
    "plt.show()"
   ]
  },
  {
   "cell_type": "code",
   "execution_count": 39,
   "id": "440d853f",
   "metadata": {},
   "outputs": [
    {
     "data": {
      "text/html": [
       "<div>\n",
       "<style scoped>\n",
       "    .dataframe tbody tr th:only-of-type {\n",
       "        vertical-align: middle;\n",
       "    }\n",
       "\n",
       "    .dataframe tbody tr th {\n",
       "        vertical-align: top;\n",
       "    }\n",
       "\n",
       "    .dataframe thead th {\n",
       "        text-align: right;\n",
       "    }\n",
       "</style>\n",
       "<table border=\"1\" class=\"dataframe\">\n",
       "  <thead>\n",
       "    <tr style=\"text-align: right;\">\n",
       "      <th></th>\n",
       "      <th>count</th>\n",
       "      <th>mean</th>\n",
       "      <th>std</th>\n",
       "      <th>min</th>\n",
       "      <th>25%</th>\n",
       "      <th>50%</th>\n",
       "      <th>75%</th>\n",
       "      <th>max</th>\n",
       "    </tr>\n",
       "  </thead>\n",
       "  <tbody>\n",
       "    <tr>\n",
       "      <th>intrauterine_hypoxia</th>\n",
       "      <td>197.0</td>\n",
       "      <td>0.497462</td>\n",
       "      <td>0.501267</td>\n",
       "      <td>0.0</td>\n",
       "      <td>0.0</td>\n",
       "      <td>0.0</td>\n",
       "      <td>1.0</td>\n",
       "      <td>1.0</td>\n",
       "    </tr>\n",
       "    <tr>\n",
       "      <th>birth_asphyxia</th>\n",
       "      <td>197.0</td>\n",
       "      <td>0.086294</td>\n",
       "      <td>0.281514</td>\n",
       "      <td>0.0</td>\n",
       "      <td>0.0</td>\n",
       "      <td>0.0</td>\n",
       "      <td>0.0</td>\n",
       "      <td>1.0</td>\n",
       "    </tr>\n",
       "    <tr>\n",
       "      <th>undetermined</th>\n",
       "      <td>197.0</td>\n",
       "      <td>0.020305</td>\n",
       "      <td>0.141399</td>\n",
       "      <td>0.0</td>\n",
       "      <td>0.0</td>\n",
       "      <td>0.0</td>\n",
       "      <td>0.0</td>\n",
       "      <td>1.0</td>\n",
       "    </tr>\n",
       "    <tr>\n",
       "      <th>preeclampsia</th>\n",
       "      <td>197.0</td>\n",
       "      <td>0.182741</td>\n",
       "      <td>0.387439</td>\n",
       "      <td>0.0</td>\n",
       "      <td>0.0</td>\n",
       "      <td>0.0</td>\n",
       "      <td>0.0</td>\n",
       "      <td>1.0</td>\n",
       "    </tr>\n",
       "    <tr>\n",
       "      <th>twin_pregnancy</th>\n",
       "      <td>197.0</td>\n",
       "      <td>0.060914</td>\n",
       "      <td>0.239781</td>\n",
       "      <td>0.0</td>\n",
       "      <td>0.0</td>\n",
       "      <td>0.0</td>\n",
       "      <td>0.0</td>\n",
       "      <td>1.0</td>\n",
       "    </tr>\n",
       "    <tr>\n",
       "      <th>abruption_placenta</th>\n",
       "      <td>197.0</td>\n",
       "      <td>0.055838</td>\n",
       "      <td>0.230193</td>\n",
       "      <td>0.0</td>\n",
       "      <td>0.0</td>\n",
       "      <td>0.0</td>\n",
       "      <td>0.0</td>\n",
       "      <td>1.0</td>\n",
       "    </tr>\n",
       "    <tr>\n",
       "      <th>child_death</th>\n",
       "      <td>197.0</td>\n",
       "      <td>0.614213</td>\n",
       "      <td>0.488021</td>\n",
       "      <td>0.0</td>\n",
       "      <td>0.0</td>\n",
       "      <td>1.0</td>\n",
       "      <td>1.0</td>\n",
       "      <td>1.0</td>\n",
       "    </tr>\n",
       "  </tbody>\n",
       "</table>\n",
       "</div>"
      ],
      "text/plain": [
       "                      count      mean       std  min  25%  50%  75%  max\n",
       "intrauterine_hypoxia  197.0  0.497462  0.501267  0.0  0.0  0.0  1.0  1.0\n",
       "birth_asphyxia        197.0  0.086294  0.281514  0.0  0.0  0.0  0.0  1.0\n",
       "undetermined          197.0  0.020305  0.141399  0.0  0.0  0.0  0.0  1.0\n",
       "preeclampsia          197.0  0.182741  0.387439  0.0  0.0  0.0  0.0  1.0\n",
       "twin_pregnancy        197.0  0.060914  0.239781  0.0  0.0  0.0  0.0  1.0\n",
       "abruption_placenta    197.0  0.055838  0.230193  0.0  0.0  0.0  0.0  1.0\n",
       "child_death           197.0  0.614213  0.488021  0.0  0.0  1.0  1.0  1.0"
      ]
     },
     "execution_count": 39,
     "metadata": {},
     "output_type": "execute_result"
    }
   ],
   "source": [
    "mydata.select_dtypes(exclude=['category']).describe().transpose()"
   ]
  },
  {
   "cell_type": "code",
   "execution_count": 52,
   "id": "c654683e",
   "metadata": {},
   "outputs": [],
   "source": [
    "x=mydata.drop([\"child_death\"],axis=1)\n",
    "y=mydata[\"child_death\"]"
   ]
  },
  {
   "cell_type": "code",
   "execution_count": 53,
   "id": "7589fbc5",
   "metadata": {},
   "outputs": [],
   "source": [
    "# Split the data into training and test sets\n",
    "X_train, X_test, y_train, y_test = train_test_split(x, y, test_size=0.2, random_state=42)"
   ]
  },
  {
   "cell_type": "markdown",
   "id": "f63f1e3c",
   "metadata": {},
   "source": [
    "# Logistic Regression"
   ]
  },
  {
   "cell_type": "code",
   "execution_count": 54,
   "id": "0d009ef5",
   "metadata": {},
   "outputs": [
    {
     "name": "stdout",
     "output_type": "stream",
     "text": [
      "Logistic Regression: 0.7836693548387098 {'C': 1, 'penalty': 'l2'}\n"
     ]
    }
   ],
   "source": [
    "lr_params = {'C': [0.1, 1, 10], 'penalty': ['l1', 'l2']}\n",
    "lr_clf = LogisticRegression()\n",
    "lr_grid = GridSearchCV(lr_clf, lr_params, cv=5)\n",
    "lr_grid.fit(X_train, y_train)\n",
    "print(\"Logistic Regression:\", lr_grid.best_score_, lr_grid.best_params_)"
   ]
  },
  {
   "cell_type": "markdown",
   "id": "84036ec0",
   "metadata": {},
   "source": [
    "# Confusion Matrix"
   ]
  },
  {
   "cell_type": "code",
   "execution_count": 60,
   "id": "098fdeec",
   "metadata": {},
   "outputs": [
    {
     "data": {
      "text/plain": [
       "<Figure size 576x576 with 0 Axes>"
      ]
     },
     "metadata": {},
     "output_type": "display_data"
    },
    {
     "data": {
      "image/png": "[encoded data removed]",
      "text/plain": [
       "<Figure size 432x288 with 2 Axes>"
      ]
     },
     "metadata": {
      "needs_background": "light"
     },
     "output_type": "display_data"
    }
   ],
   "source": [
    "from sklearn.metrics import confusion_matrix, ConfusionMatrixDisplay\n",
    "# Get the best model from the grid search\n",
    "best_lr_model = lr_grid.best_estimator_\n",
    "\n",
    "# Make predictions on the test set\n",
    "y_pred = best_lr_model.predict(X_test)\n",
    "\n",
    "# Compute the confusion matrix\n",
    "cm = confusion_matrix(y_test, y_pred)\n",
    "\n",
    "# Create a confusion matrix display\n",
    "disp = ConfusionMatrixDisplay(confusion_matrix=cm)\n",
    "\n",
    "# Plot the confusion matrix\n",
    "plt.figure(figsize=(8, 8))\n",
    "disp.plot()\n",
    "plt.title('Logistic Regression Confusion Matrix')\n",
    "plt.xlabel('Predicted Label')\n",
    "plt.ylabel('True Label')\n",
    "plt.show()"
   ]
  },
  {
   "cell_type": "code",
   "execution_count": 61,
   "id": "c1855db6",
   "metadata": {},
   "outputs": [
    {
     "name": "stdout",
     "output_type": "stream",
     "text": [
      "Support Vector Machine: 0.7965725806451613 {'C': 0.1, 'kernel': 'rbf'}\n"
     ]
    }
   ],
   "source": [
    "# Support Vector Machine\n",
    "svm_params = {'C': [0.1, 1, 10], 'kernel': ['linear', 'rbf']}\n",
    "svm_clf = SVC()\n",
    "svm_grid = GridSearchCV(svm_clf, svm_params, cv=5)\n",
    "svm_grid.fit(X_train, y_train)\n",
    "print(\"Support Vector Machine:\", svm_grid.best_score_, svm_grid.best_params_)"
   ]
  },
  {
   "cell_type": "code",
   "execution_count": 62,
   "id": "4b63f909",
   "metadata": {},
   "outputs": [
    {
     "data": {
      "text/plain": [
       "<Figure size 576x576 with 0 Axes>"
      ]
     },
     "metadata": {},
     "output_type": "display_data"
    },
    {
     "data": {
      "image/png": "[encoded data removed]",
      "text/plain": [
       "<Figure size 432x288 with 2 Axes>"
      ]
     },
     "metadata": {
      "needs_background": "light"
     },
     "output_type": "display_data"
    }
   ],
   "source": [
    "# Get the best SVM model\n",
    "best_svm_model = svm_grid.best_estimator_\n",
    "\n",
    "# Make predictions on the test set\n",
    "y_pred_sv = best_svm_model.predict(X_test)\n",
    "\n",
    "# Compute the confusion matrix\n",
    "cm = confusion_matrix(y_test, y_pred_sv)\n",
    "\n",
    "# Create a confusion matrix display\n",
    "disp = ConfusionMatrixDisplay(confusion_matrix=cm)\n",
    "\n",
    "# Plot the confusion matrix\n",
    "plt.figure(figsize=(8, 8))\n",
    "disp.plot()\n",
    "plt.title('SVM Confusion Matrix')\n",
    "plt.xlabel('Predicted Label')\n",
    "plt.ylabel('True Label')\n",
    "plt.show()"
   ]
  },
  {
   "cell_type": "markdown",
   "id": "b11dda43",
   "metadata": {},
   "source": [
    "# AdaBoost Classifier"
   ]
  },
  {
   "cell_type": "code",
   "execution_count": 65,
   "id": "88a9859c",
   "metadata": {},
   "outputs": [
    {
     "name": "stdout",
     "output_type": "stream",
     "text": [
      "AdaBoost Classifier: 0.7959677419354839 {'learning_rate': 0.01, 'n_estimators': 150}\n"
     ]
    }
   ],
   "source": [
    "ada_params = {'n_estimators': [50, 100, 150], 'learning_rate': [0.1, 0.01, 0.001]}\n",
    "ada_clf = AdaBoostClassifier()\n",
    "ada_grid = GridSearchCV(ada_clf, ada_params, cv=5)\n",
    "ada_grid.fit(X_train, y_train)\n",
    "print(\"AdaBoost Classifier:\", ada_grid.best_score_, ada_grid.best_params_)"
   ]
  },
  {
   "cell_type": "code",
   "execution_count": 66,
   "id": "7940dfc4",
   "metadata": {},
   "outputs": [
    {
     "data": {
      "text/plain": [
       "<Figure size 576x576 with 0 Axes>"
      ]
     },
     "metadata": {},
     "output_type": "display_data"
    },
    {
     "data": {
      "image/png": "[encoded data removed]",
      "text/plain": [
       "<Figure size 432x288 with 2 Axes>"
      ]
     },
     "metadata": {
      "needs_background": "light"
     },
     "output_type": "display_data"
    }
   ],
   "source": [
    "# Get the best AdaBoost model\n",
    "best_ada_model = ada_grid.best_estimator_\n",
    "\n",
    "# Make predictions on the test set\n",
    "y_pred_ada = best_ada_model.predict(X_test)\n",
    "\n",
    "# Compute the confusion matrix\n",
    "cm = confusion_matrix(y_test, y_pred_ada)\n",
    "\n",
    "# Create a confusion matrix display\n",
    "disp = ConfusionMatrixDisplay(confusion_matrix=cm)\n",
    "\n",
    "# Plot the confusion matrix\n",
    "plt.figure(figsize=(8, 8))\n",
    "disp.plot()\n",
    "plt.title('AdaBoost Confusion Matrix')\n",
    "plt.xlabel('Predicted Label')\n",
    "plt.ylabel('True Label')\n",
    "plt.show()"
   ]
  },
  {
   "cell_type": "markdown",
   "id": "816057a5",
   "metadata": {},
   "source": [
    "# Random Forest Classifier"
   ]
  },
  {
   "cell_type": "code",
   "execution_count": 67,
   "id": "63b5cc27",
   "metadata": {},
   "outputs": [
    {
     "name": "stdout",
     "output_type": "stream",
     "text": [
      "Random Forest Classifier: 0.7965725806451613 {'max_depth': 10, 'n_estimators': 100}\n"
     ]
    }
   ],
   "source": [
    "rf_params = {'n_estimators': [100, 200, 300], 'max_depth': [5, 10, 15]}\n",
    "rf_clf = RandomForestClassifier()\n",
    "rf_grid = GridSearchCV(rf_clf, rf_params, cv=5)\n",
    "rf_grid.fit(X_train, y_train)\n",
    "print(\"Random Forest Classifier:\", rf_grid.best_score_, rf_grid.best_params_)\n"
   ]
  },
  {
   "cell_type": "code",
   "execution_count": 68,
   "id": "4c479db9",
   "metadata": {},
   "outputs": [
    {
     "data": {
      "text/plain": [
       "<Figure size 576x576 with 0 Axes>"
      ]
     },
     "metadata": {},
     "output_type": "display_data"
    },
    {
     "data": {
      "image/png": "[encoded data removed]",
      "text/plain": [
       "<Figure size 432x288 with 2 Axes>"
      ]
     },
     "metadata": {
      "needs_background": "light"
     },
     "output_type": "display_data"
    }
   ],
   "source": [
    "# Get the best Random Forest model\n",
    "best_rf_model = rf_grid.best_estimator_\n",
    "\n",
    "# Make predictions on the test set\n",
    "y_pred_rf = best_rf_model.predict(X_test)\n",
    "\n",
    "# Compute the confusion matrix\n",
    "cm = confusion_matrix(y_test, y_pred_rf)\n",
    "\n",
    "# Create a confusion matrix display\n",
    "disp = ConfusionMatrixDisplay(confusion_matrix=cm)\n",
    "\n",
    "# Plot the confusion matrix\n",
    "plt.figure(figsize=(8, 8))\n",
    "disp.plot()\n",
    "plt.title('Random Forest Confusion Matrix')\n",
    "plt.xlabel('Predicted Label')\n",
    "plt.ylabel('True Label')\n",
    "plt.show()"
   ]
  },
  {
   "cell_type": "code",
   "execution_count": 70,
   "id": "dc029dc9",
   "metadata": {},
   "outputs": [
    {
     "name": "stdout",
     "output_type": "stream",
     "text": [
      "Gradient Boosting Classifier: 0.7836693548387098 {'learning_rate': 0.1, 'n_estimators': 100}\n"
     ]
    }
   ],
   "source": [
    "# Gradient Boosting Classifier\n",
    "gb_params = {'n_estimators': [100, 200, 300], 'learning_rate': [0.1, 0.01,0.001]}\n",
    "gb_clf = GradientBoostingClassifier()\n",
    "gb_grid = GridSearchCV(gb_clf, gb_params, cv=5)\n",
    "gb_grid.fit(X_train, y_train)\n",
    "print(\"Gradient Boosting Classifier:\", gb_grid.best_score_, gb_grid.best_params_)"
   ]
  },
  {
   "cell_type": "code",
   "execution_count": 75,
   "id": "5cfb258d",
   "metadata": {},
   "outputs": [
    {
     "data": {
      "text/plain": [
       "<Figure size 576x576 with 0 Axes>"
      ]
     },
     "metadata": {},
     "output_type": "display_data"
    },
    {
     "data": {
      "image/png": "[encoded data removed]",
      "text/plain": [
       "<Figure size 432x288 with 2 Axes>"
      ]
     },
     "metadata": {
      "needs_background": "light"
     },
     "output_type": "display_data"
    }
   ],
   "source": [
    "# Get the best Gradient Boosting model\n",
    "best_gb_model = gb_grid.best_estimator_\n",
    "\n",
    "# Make predictions on the test set\n",
    "y_pred_gb = best_gb_model.predict(X_test)\n",
    "\n",
    "# Compute the confusion matrix\n",
    "cm = confusion_matrix(y_test, y_pred_gb)\n",
    "\n",
    "# Create a confusion matrix display\n",
    "disp = ConfusionMatrixDisplay(confusion_matrix=cm)\n",
    "\n",
    "# Plot the confusion matrix\n",
    "plt.figure(figsize=(8, 8))\n",
    "disp.plot()\n",
    "plt.title('Gradient Boosting Confusion Matrix')\n",
    "plt.xlabel('Predicted Label')\n",
    "plt.ylabel('True Label')\n",
    "plt.show()"
   ]
  },
  {
   "cell_type": "code",
   "execution_count": 76,
   "id": "5363aea2",
   "metadata": {},
   "outputs": [
    {
     "name": "stdout",
     "output_type": "stream",
     "text": [
      "XGBoost Classifier: 0.7645161290322581 {'learning_rate': 0.1, 'max_depth': 3}\n"
     ]
    }
   ],
   "source": [
    "# XGBoost Classifier\n",
    "xgb_params = {'max_depth': [3, 5, 7], 'learning_rate': [0.1, 0.01, 0.001]}\n",
    "xgb_clf = XGBClassifier()\n",
    "xgb_grid = GridSearchCV(xgb_clf, xgb_params, cv=5)\n",
    "xgb_grid.fit(X_train, y_train)\n",
    "print(\"XGBoost Classifier:\", xgb_grid.best_score_, xgb_grid.best_params_)"
   ]
  },
  {
   "cell_type": "code",
   "execution_count": 77,
   "id": "10d79bcc",
   "metadata": {},
   "outputs": [
    {
     "data": {
      "text/plain": [
       "<Figure size 576x576 with 0 Axes>"
      ]
     },
     "metadata": {},
     "output_type": "display_data"
    },
    {
     "data": {
      "image/png": "[encoded data removed]",
      "text/plain": [
       "<Figure size 432x288 with 2 Axes>"
      ]
     },
     "metadata": {
      "needs_background": "light"
     },
     "output_type": "display_data"
    }
   ],
   "source": [
    "# Get the best XGBoost model\n",
    "best_xgb_model = xgb_grid.best_estimator_\n",
    "\n",
    "# Make predictions on the test set\n",
    "y_pred_xgb= best_xgb_model.predict(X_test)\n",
    "\n",
    "# Compute the confusion matrix\n",
    "cm = confusion_matrix(y_test, y_pred_xgb)\n",
    "\n",
    "# Create a confusion matrix display\n",
    "disp = ConfusionMatrixDisplay(confusion_matrix=cm)\n",
    "\n",
    "# Plot the confusion matrix\n",
    "plt.figure(figsize=(8, 8))\n",
    "disp.plot()\n",
    "plt.title('XGBoost Confusion Matrix')\n",
    "plt.xlabel('Predicted Label')\n",
    "plt.ylabel('True Label')\n",
    "plt.show()"
   ]
  },
  {
   "cell_type": "markdown",
   "id": "a088caae",
   "metadata": {},
   "source": [
    "# 5.Model evaluation using the proper metrics"
   ]
  },
  {
   "cell_type": "markdown",
   "id": "eda9f6a6",
   "metadata": {},
   "source": [
    "## A.Import the appropriate evaluation metric packages"
   ]
  },
  {
   "cell_type": "code",
   "execution_count": 81,
   "id": "3ffd7373",
   "metadata": {},
   "outputs": [],
   "source": [
    "from sklearn.metrics import accuracy_score, f1_score, precision_score, recall_score"
   ]
  },
  {
   "cell_type": "code",
   "execution_count": 82,
   "id": "d9fab297",
   "metadata": {},
   "outputs": [
    {
     "name": "stdout",
     "output_type": "stream",
     "text": [
      "Logistic Regression:\n",
      "Accuracy: 0.82\n",
      "F1-score: 0.84\n",
      "Precision: 0.86\n",
      "Recall: 0.82\n"
     ]
    }
   ],
   "source": [
    "# Logistic Regression\n",
    "y_pred_lr = lr_grid.best_estimator_.predict(X_test)\n",
    "lr_accuracy = accuracy_score(y_test, y_pred_lr)\n",
    "lr_f1 = f1_score(y_test, y_pred_lr)\n",
    "lr_precision = precision_score(y_test, y_pred_lr)\n",
    "lr_recall = recall_score(y_test, y_pred_lr)\n",
    "\n",
    "print(\"Logistic Regression:\")\n",
    "print(f\"Accuracy: {lr_accuracy:.2f}\")\n",
    "print(f\"F1-score: {lr_f1:.2f}\")\n",
    "print(f\"Precision: {lr_precision:.2f}\")\n",
    "print(f\"Recall: {lr_recall:.2f}\")"
   ]
  },
  {
   "cell_type": "code",
   "execution_count": 87,
   "id": "9eac301c",
   "metadata": {},
   "outputs": [
    {
     "name": "stdout",
     "output_type": "stream",
     "text": [
      "\n",
      "Support Vector Machine (SVM):\n",
      "Accuracy: 0.85\n",
      "F1-score: 0.86\n",
      "Precision: 0.86\n",
      "Recall: 0.86\n"
     ]
    }
   ],
   "source": [
    "y_pred_svm = svm_grid.best_estimator_.predict(X_test)\n",
    "svm_accuracy = accuracy_score(y_test, y_pred_svm)\n",
    "svm_f1 = f1_score(y_test, y_pred_svm)\n",
    "svm_precision = precision_score(y_test, y_pred_svm)\n",
    "svm_recall = recall_score(y_test, y_pred_svm)\n",
    "\n",
    "print(\"\\nSupport Vector Machine (SVM):\")\n",
    "print(f\"Accuracy: {svm_accuracy:.2f}\")\n",
    "print(f\"F1-score: {svm_f1:.2f}\")\n",
    "print(f\"Precision: {svm_precision:.2f}\")\n",
    "print(f\"Recall: {svm_recall:.2f}\")"
   ]
  },
  {
   "cell_type": "code",
   "execution_count": 84,
   "id": "56097ace",
   "metadata": {},
   "outputs": [
    {
     "name": "stdout",
     "output_type": "stream",
     "text": [
      "\n",
      "Random Forest:\n",
      "Accuracy: 0.85\n",
      "F1-score: 0.86\n",
      "Precision: 0.86\n",
      "Recall: 0.86\n"
     ]
    }
   ],
   "source": [
    "# Random Forest\n",
    "y_pred_rf = rf_grid.best_estimator_.predict(X_test)\n",
    "rf_accuracy = accuracy_score(y_test, y_pred_rf)\n",
    "rf_f1 = f1_score(y_test, y_pred_rf)\n",
    "rf_precision = precision_score(y_test, y_pred_rf)\n",
    "rf_recall = recall_score(y_test, y_pred_rf)\n",
    "\n",
    "print(\"\\nRandom Forest:\")\n",
    "print(f\"Accuracy: {rf_accuracy:.2f}\")\n",
    "print(f\"F1-score: {rf_f1:.2f}\")\n",
    "print(f\"Precision: {rf_precision:.2f}\")\n",
    "print(f\"Recall: {rf_recall:.2f}\")"
   ]
  },
  {
   "cell_type": "code",
   "execution_count": 85,
   "id": "06c0f424",
   "metadata": {},
   "outputs": [
    {
     "name": "stdout",
     "output_type": "stream",
     "text": [
      "\n",
      "Gradient Boosting:\n",
      "Accuracy: 0.85\n",
      "F1-score: 0.86\n",
      "Precision: 0.86\n",
      "Recall: 0.86\n"
     ]
    }
   ],
   "source": [
    "# Gradient Boosting\n",
    "y_pred_gb = gb_grid.best_estimator_.predict(X_test)\n",
    "gb_accuracy = accuracy_score(y_test, y_pred_gb)\n",
    "gb_f1 = f1_score(y_test, y_pred_gb)\n",
    "gb_precision = precision_score(y_test, y_pred_gb)\n",
    "gb_recall = recall_score(y_test, y_pred_gb)\n",
    "\n",
    "print(\"\\nGradient Boosting:\")\n",
    "print(f\"Accuracy: {gb_accuracy:.2f}\")\n",
    "print(f\"F1-score: {gb_f1:.2f}\")\n",
    "print(f\"Precision: {gb_precision:.2f}\")\n",
    "print(f\"Recall: {gb_recall:.2f}\")"
   ]
  },
  {
   "cell_type": "code",
   "execution_count": 86,
   "id": "2c75184e",
   "metadata": {},
   "outputs": [
    {
     "name": "stdout",
     "output_type": "stream",
     "text": [
      "\n",
      "XGBoost:\n",
      "Accuracy: 0.82\n",
      "F1-score: 0.84\n",
      "Precision: 0.86\n",
      "Recall: 0.82\n"
     ]
    }
   ],
   "source": [
    "# XGBoost\n",
    "y_pred_xgb = xgb_grid.best_estimator_.predict(X_test)\n",
    "xgb_accuracy = accuracy_score(y_test, y_pred_xgb)\n",
    "xgb_f1 = f1_score(y_test, y_pred_xgb)\n",
    "xgb_precision = precision_score(y_test, y_pred_xgb)\n",
    "xgb_recall = recall_score(y_test, y_pred_xgb)\n",
    "\n",
    "print(\"\\nXGBoost:\")\n",
    "print(f\"Accuracy: {xgb_accuracy:.2f}\")\n",
    "print(f\"F1-score: {xgb_f1:.2f}\")\n",
    "print(f\"Precision: {xgb_precision:.2f}\")\n",
    "print(f\"Recall: {xgb_recall:.2f}\")"
   ]
  },
  {
   "cell_type": "markdown",
   "id": "606624bd",
   "metadata": {},
   "source": [
    "# B. Using the appropriate n-fold cross-validation and out-of-sample data, select the best performing model from the candidate models under 4(A):"
   ]
  },
  {
   "cell_type": "code",
   "execution_count": 88,
   "id": "e0118248",
   "metadata": {},
   "outputs": [
    {
     "name": "stdout",
     "output_type": "stream",
     "text": [
      "Logistic Regression 5-Fold CV Accuracy: 0.792\n",
      "SVM 5-Fold CV Accuracy: 0.808\n",
      "AdaBoost 5-Fold CV Accuracy: 0.797\n",
      "RandomForest 5-Fold CV Accuracy: 0.808\n",
      "XGBoost 5-Fold CV Accuracy: 0.791\n",
      "Best Performing Model: GridSearchCV\n"
     ]
    }
   ],
   "source": [
    "# Perform 5-fold stratified cross-validation\n",
    "skf = StratifiedKFold(n_splits=5, shuffle=True)#, random_state=42)\n",
    "\n",
    "# Evaluate the models using cross-validation\n",
    "for model, name in zip([lr_grid,svm_grid , ada_grid, rf_grid, xgb_grid], ['Logistic Regression', 'SVM', 'AdaBoost', 'RandomForest','XGBoost']):\n",
    "    scores = []\n",
    "    for train_idx, val_idx in skf.split(x, y):\n",
    "        X_train, X_val = x.iloc[train_idx], x.iloc[val_idx]\n",
    "        y_train, y_val = y.iloc[train_idx], y.iloc[val_idx]\n",
    "        model.fit(X_train, y_train)\n",
    "        scores.append(model.score(X_val, y_val))\n",
    "    print(f\"{name} 5-Fold CV Accuracy: {np.mean(scores):.3f}\")\n",
    "\n",
    "# Select the best performing model\n",
    "best_model = max([lr_grid,svm_grid, ada_grid, rf_grid, xgb_grid], key=lambda x: np.mean(scores))\n",
    "print(f\"Best Performing Model: {type(best_model).__name__}\")"
   ]
  },
  {
   "cell_type": "markdown",
   "id": "04bfafa1",
   "metadata": {},
   "source": [
    "## C. Ensemble the models and see the performance of the combination models on the data:"
   ]
  },
  {
   "cell_type": "code",
   "execution_count": 89,
   "id": "dd547fef",
   "metadata": {},
   "outputs": [],
   "source": [
    "lr_grid.best_estimator_.probability = True\n",
    "svm_grid.best_estimator_.probability = True\n",
    "ada_grid.best_estimator_.probability = True\n",
    "rf_grid.best_estimator_.probability = True\n",
    "xgb_grid.best_estimator_.probability = True\n",
    "gb_grid.best_estimator_.probability = True"
   ]
  },
  {
   "cell_type": "code",
   "execution_count": 90,
   "id": "4693918e",
   "metadata": {
    "scrolled": true
   },
   "outputs": [
    {
     "name": "stdout",
     "output_type": "stream",
     "text": [
      "Ensemble Model Test Accuracy: 0.850\n"
     ]
    }
   ],
   "source": [
    "# Create the ensemble model\n",
    "ensemble = VotingClassifier(estimators=[('lr', lr_grid.best_estimator_), ('svm', svm_grid.best_estimator_), \n",
    "                                       ('ada', ada_grid.best_estimator_), ('rf', rf_grid.best_estimator_),\n",
    "                                        ('xgb',xgb_grid.best_estimator_), ('gb',gb_grid.best_estimator_)],\n",
    "                            voting='soft')\n",
    "ensemble.fit(X_train, y_train)\n",
    "ensemble_score = ensemble.score(X_test, y_test)\n",
    "print(f\"Ensemble Model Test Accuracy: {ensemble_score:.3f}\")"
   ]
  },
  {
   "cell_type": "markdown",
   "id": "1bd3c25b",
   "metadata": {},
   "source": [
    "## D.Use Accuracy score metrics to evaluate the performance of the models above "
   ]
  },
  {
   "cell_type": "code",
   "execution_count": 94,
   "id": "ea670121",
   "metadata": {},
   "outputs": [
    {
     "name": "stdout",
     "output_type": "stream",
     "text": [
      "Accuracy Scores:\n",
      "Logistic Regression: 0.825\n",
      "SVM: 0.825\n",
      "AdaBoost: 0.825\n",
      "Random Forest: 0.850\n",
      "Xgbost: 0.825\n",
      "gb:0.850\n",
      "Ensemble: 0.850\n"
     ]
    }
   ],
   "source": [
    "# Evaluate the performance of the models\n",
    "y_pred_lr = lr_grid.best_estimator_.predict(X_test)\n",
    "y_pred_svm = svm_grid.best_estimator_.predict(X_test)\n",
    "y_pred_ada = ada_grid.best_estimator_.predict(X_test)\n",
    "y_pred_rf = rf_grid.best_estimator_.predict(X_test)\n",
    "y_pred_xgb = xgb_grid.best_estimator_.predict(X_test)\n",
    "y_pred_ensemble = ensemble.predict(X_test)\n",
    "y_pred_gb = gb_grid.best_estimator_.predict(X_test)\n",
    "\n",
    "print(\"Accuracy Scores:\")\n",
    "print(f\"Logistic Regression: {accuracy_score(y_test, y_pred_lr):.3f}\")\n",
    "print(f\"SVM: {accuracy_score(y_test, y_pred_svm):.3f}\")\n",
    "print(f\"AdaBoost: {accuracy_score(y_test, y_pred_ada):.3f}\")\n",
    "print(f\"Random Forest: {accuracy_score(y_test, y_pred_rf):.3f}\")\n",
    "print(f\"Xgbost: {accuracy_score(y_test, y_pred_xgb):.3f}\")\n",
    "print(f\"gb:{accuracy_score(y_test, y_pred_gb):.3f}\")\n",
    "print(f\"Ensemble: {accuracy_score(y_test, y_pred_ensemble):.3f}\")"
   ]
  },
  {
   "cell_type": "markdown",
   "id": "12fe3699",
   "metadata": {},
   "source": [
    "## E.Plot the AUC and ROC curve on the same graph to visualize and compare the performance of each of the models above"
   ]
  },
  {
   "cell_type": "code",
   "execution_count": 96,
   "id": "87ef5db6",
   "metadata": {},
   "outputs": [
    {
     "data": {
      "text/html": [
       "<style>#sk-container-id-1 {color: black;}#sk-container-id-1 pre{padding: 0;}#sk-container-id-1 div.sk-toggleable {background-color: white;}#sk-container-id-1 label.sk-toggleable__label {cursor: pointer;display: block;width: 100%;margin-bottom: 0;padding: 0.3em;box-sizing: border-box;text-align: center;}#sk-container-id-1 label.sk-toggleable__label-arrow:before {content: \"▸\";float: left;margin-right: 0.25em;color: #696969;}#sk-container-id-1 label.sk-toggleable__label-arrow:hover:before {color: black;}#sk-container-id-1 div.sk-estimator:hover label.sk-toggleable__label-arrow:before {color: black;}#sk-container-id-1 div.sk-toggleable__content {max-height: 0;max-width: 0;overflow: hidden;text-align: left;background-color: #f0f8ff;}#sk-container-id-1 div.sk-toggleable__content pre {margin: 0.2em;color: black;border-radius: 0.25em;background-color: #f0f8ff;}#sk-container-id-1 input.sk-toggleable__control:checked~div.sk-toggleable__content {max-height: 200px;max-width: 100%;overflow: auto;}#sk-container-id-1 input.sk-toggleable__control:checked~label.sk-toggleable__label-arrow:before {content: \"▾\";}#sk-container-id-1 div.sk-estimator input.sk-toggleable__control:checked~label.sk-toggleable__label {background-color: #d4ebff;}#sk-container-id-1 div.sk-label input.sk-toggleable__control:checked~label.sk-toggleable__label {background-color: #d4ebff;}#sk-container-id-1 input.sk-hidden--visually {border: 0;clip: rect(1px 1px 1px 1px);clip: rect(1px, 1px, 1px, 1px);height: 1px;margin: -1px;overflow: hidden;padding: 0;position: absolute;width: 1px;}#sk-container-id-1 div.sk-estimator {font-family: monospace;background-color: #f0f8ff;border: 1px dotted black;border-radius: 0.25em;box-sizing: border-box;margin-bottom: 0.5em;}#sk-container-id-1 div.sk-estimator:hover {background-color: #d4ebff;}#sk-container-id-1 div.sk-parallel-item::after {content: \"\";width: 100%;border-bottom: 1px solid gray;flex-grow: 1;}#sk-container-id-1 div.sk-label:hover label.sk-toggleable__label {background-color: #d4ebff;}#sk-container-id-1 div.sk-serial::before {content: \"\";position: absolute;border-left: 1px solid gray;box-sizing: border-box;top: 0;bottom: 0;left: 50%;z-index: 0;}#sk-container-id-1 div.sk-serial {display: flex;flex-direction: column;align-items: center;background-color: white;padding-right: 0.2em;padding-left: 0.2em;position: relative;}#sk-container-id-1 div.sk-item {position: relative;z-index: 1;}#sk-container-id-1 div.sk-parallel {display: flex;align-items: stretch;justify-content: center;background-color: white;position: relative;}#sk-container-id-1 div.sk-item::before, #sk-container-id-1 div.sk-parallel-item::before {content: \"\";position: absolute;border-left: 1px solid gray;box-sizing: border-box;top: 0;bottom: 0;left: 50%;z-index: -1;}#sk-container-id-1 div.sk-parallel-item {display: flex;flex-direction: column;z-index: 1;position: relative;background-color: white;}#sk-container-id-1 div.sk-parallel-item:first-child::after {align-self: flex-end;width: 50%;}#sk-container-id-1 div.sk-parallel-item:last-child::after {align-self: flex-start;width: 50%;}#sk-container-id-1 div.sk-parallel-item:only-child::after {width: 0;}#sk-container-id-1 div.sk-dashed-wrapped {border: 1px dashed gray;margin: 0 0.4em 0.5em 0.4em;box-sizing: border-box;padding-bottom: 0.4em;background-color: white;}#sk-container-id-1 div.sk-label label {font-family: monospace;font-weight: bold;display: inline-block;line-height: 1.2em;}#sk-container-id-1 div.sk-label-container {text-align: center;}#sk-container-id-1 div.sk-container {/* jupyter's `normalize.less` sets `[hidden] { display: none; }` but bootstrap.min.css set `[hidden] { display: none !important; }` so we also need the `!important` here to be able to override the default hidden behavior on the sphinx rendered scikit-learn.org. See: https://github.com/scikit-learn/scikit-learn/issues/21755 */display: inline-block !important;position: relative;}#sk-container-id-1 div.sk-text-repr-fallback {display: none;}</style><div id=\"sk-container-id-1\" class=\"sk-top-container\"><div class=\"sk-text-repr-fallback\"><pre>GradientBoostingClassifier()</pre><b>In a Jupyter environment, please rerun this cell to show the HTML representation or trust the notebook. <br />On GitHub, the HTML representation is unable to render, please try loading this page with nbviewer.org.</b></div><div class=\"sk-container\" hidden><div class=\"sk-item\"><div class=\"sk-estimator sk-toggleable\"><input class=\"sk-toggleable__control sk-hidden--visually\" id=\"sk-estimator-id-1\" type=\"checkbox\" checked><label for=\"sk-estimator-id-1\" class=\"sk-toggleable__label sk-toggleable__label-arrow\">GradientBoostingClassifier</label><div class=\"sk-toggleable__content\"><pre>GradientBoostingClassifier()</pre></div></div></div></div></div>"
      ],
      "text/plain": [
       "GradientBoostingClassifier()"
      ]
     },
     "execution_count": 96,
     "metadata": {},
     "output_type": "execute_result"
    }
   ],
   "source": [
    "# Fit the individual models with probability=True\n",
    "lr_grid.best_estimator_.probability = True\n",
    "lr_grid.best_estimator_.fit(X_train, y_train)\n",
    "\n",
    "svm_grid.best_estimator_.probability = True\n",
    "svm_grid.best_estimator_.fit(X_train, y_train)\n",
    "\n",
    "ada_grid.best_estimator_.probability = True\n",
    "ada_grid.best_estimator_.fit(X_train, y_train)\n",
    "\n",
    "rf_grid.best_estimator_.probability = True\n",
    "rf_grid.best_estimator_.fit(X_train, y_train)\n",
    "\n",
    "xgb_grid.best_estimator_.probability = True\n",
    "xgb_grid.best_estimator_.fit(X_train, y_train)\n",
    "\n",
    "gb_grid.best_estimator_.probability = True\n",
    "gb_grid.best_estimator_.fit(X_train, y_train)"
   ]
  },
  {
   "cell_type": "code",
   "execution_count": 97,
   "id": "3e77f600",
   "metadata": {},
   "outputs": [
    {
     "data": {
      "image/png": "[encoded data removed]",
      "text/plain": [
       "<Figure size 576x432 with 1 Axes>"
      ]
     },
     "metadata": {
      "needs_background": "light"
     },
     "output_type": "display_data"
    }
   ],
   "source": [
    "# Calculate the ROC-AUC for each model\n",
    "fpr_lr, tpr_lr, _ = roc_curve(y_test, lr_grid.best_estimator_.predict_proba(X_test)[:, 1])\n",
    "fpr_svm, tpr_svm, _ = roc_curve(y_test, svm_grid.best_estimator_.predict_proba(X_test)[:, 1])\n",
    "fpr_ada, tpr_ada, _ = roc_curve(y_test, ada_grid.best_estimator_.predict_proba(X_test)[:, 1])\n",
    "fpr_rf, tpr_rf, _ = roc_curve(y_test, rf_grid.best_estimator_.predict_proba(X_test)[:, 1])\n",
    "fpr_xgb, tpr_xgb, _ = roc_curve(y_test, xgb_grid.best_estimator_.predict_proba(X_test)[:, 1])\n",
    "fpr_gb,tpr_gb, _ = roc_curve(y_test, gb_grid.best_estimator_.predict_proba(X_test)[:, 1])\n",
    "fpr_ensemble, tpr_ensemble, _ = roc_curve(y_test, ensemble.predict_proba(X_test)[:, 1])\n",
    "\n",
    "auc_lr = roc_auc_score(y_test, lr_grid.best_estimator_.predict_proba(X_test)[:, 1])\n",
    "auc_svm = roc_auc_score(y_test, svm_grid.best_estimator_.predict_proba(X_test)[:, 1])\n",
    "auc_ada = roc_auc_score(y_test, ada_grid.best_estimator_.predict_proba(X_test)[:, 1])\n",
    "auc_rf = roc_auc_score(y_test, rf_grid.best_estimator_.predict_proba(X_test)[:, 1])\n",
    "auc_xgb = roc_auc_score(y_test, xgb_grid.best_estimator_.predict_proba(X_test)[:, 1])\n",
    "auc_gb=roc_auc_score(y_test, gb_grid.best_estimator_.predict_proba(X_test)[:, 1])\n",
    "auc_ensemble = roc_auc_score(y_test, ensemble.predict_proba(X_test)[:, 1])\n",
    "\n",
    "# Plot the ROC curves\n",
    "plt.figure(figsize=(8, 6))\n",
    "plt.plot(fpr_lr, tpr_lr, label=f'Logistic Regression (AUC: {auc_lr:.3f})')\n",
    "plt.plot(fpr_svm, tpr_svm, label=f'SVM (AUC: {auc_svm:.3f})')\n",
    "plt.plot(fpr_ada, tpr_ada, label=f'AdaBoost (AUC: {auc_ada:.3f})')\n",
    "plt.plot(fpr_rf, tpr_rf, label=f'Random Forest (AUC: {auc_rf:.3f})')\n",
    "plt.plot(fpr_xgb, tpr_xgb, label=f'XGBoost (AUC: {auc_xgb:.3f})')\n",
    "plt.plot(fpr_gb,tpr_gb,label=f'GradientBoost(AUC:{auc_gb:.3f})')\n",
    "plt.plot(fpr_ensemble, tpr_ensemble, label=f'Ensemble (AUC: {auc_ensemble:.3f})')\n",
    "plt.plot([0, 1], [0, 1], 'k--', label='No Skill')\n",
    "plt.xlabel('False Positive Rate')\n",
    "plt.ylabel('True Positive Rate')\n",
    "plt.title('ROC Curve Comparison Before scaling')\n",
    "plt.legend()\n",
    "plt.show()"
   ]
  },
  {
   "cell_type": "markdown",
   "id": "c4110b6f",
   "metadata": {},
   "source": [
    "# 6.Result Visualization: Import the appropriate visualization package and: "
   ]
  },
  {
   "cell_type": "markdown",
   "id": "9969b1f1",
   "metadata": {},
   "source": [
    "## A.Plot the feature importance in descending order for each of the models using horizontal bar chart"
   ]
  },
  {
   "cell_type": "code",
   "execution_count": 121,
   "id": "ddada0f7",
   "metadata": {},
   "outputs": [
    {
     "data": {
      "image/png": "[encoded data removed]",
      "text/plain": [
       "<Figure size 864x432 with 2 Axes>"
      ]
     },
     "metadata": {
      "needs_background": "light"
     },
     "output_type": "display_data"
    }
   ],
   "source": [
    "# Plot the feature importances for the best estimator in each GridSearchCV object\n",
    "plt.figure(figsize=(12, 6))\n",
    "\n",
    "plt.subplot(2, 2, 1)\n",
    "sns.barplot(x=lr_grid.best_estimator_.coef_[0], y=x.columns, orient='h')\n",
    "plt.title('Logistic Regression Feature Importance')\n",
    "\n",
    "plt.subplot(2, 2, 2)\n",
    "sns.barplot(x=svm_grid.best_estimator_.coef_[0], y=x.columns, orient='h')\n",
    "plt.title('SVM Feature Importance')\n",
    "\n",
    "plt.tight_layout()"
   ]
  },
  {
   "cell_type": "code",
   "execution_count": 120,
   "id": "447cb2cb",
   "metadata": {},
   "outputs": [
    {
     "data": {
      "image/png": "[encoded data removed]",
      "text/plain": [
       "<Figure size 432x288 with 2 Axes>"
      ]
     },
     "metadata": {
      "needs_background": "light"
     },
     "output_type": "display_data"
    }
   ],
   "source": [
    "plt.subplot(2, 2, 1)\n",
    "sns.barplot(x=ada_grid.best_estimator_.feature_importances_, y=x.columns, orient='h')\n",
    "plt.title('AdaBoost Feature Importance')\n",
    "\n",
    "plt.subplot(2, 2, 2)\n",
    "sns.barplot(x=rf_grid.best_estimator_.feature_importances_, y=x.columns, orient='h')\n",
    "plt.title('Random Forest Feature Importance')\n",
    "\n",
    "plt.tight_layout()"
   ]
  },
  {
   "cell_type": "code",
   "execution_count": 119,
   "id": "230275f7",
   "metadata": {},
   "outputs": [
    {
     "data": {
      "image/png": "[encoded data removed]",
      "text/plain": [
       "<Figure size 432x288 with 2 Axes>"
      ]
     },
     "metadata": {
      "needs_background": "light"
     },
     "output_type": "display_data"
    }
   ],
   "source": [
    "#plt.figure(figsize=(4,3))\n",
    "plt.subplot(2, 2, 1)\n",
    "sns.barplot(x=xgb_grid.best_estimator_.feature_importances_, y=x.columns, orient='h')\n",
    "plt.title('XGBoost Feature Importance')\n",
    "\n",
    "plt.subplot(2, 2, 2)\n",
    "sns.barplot(x=gb_grid.best_estimator_.feature_importances_, y=x.columns, orient='h')\n",
    "plt.title('GBoost Feature Importance')\n",
    "\n",
    "plt.tight_layout()"
   ]
  },
  {
   "cell_type": "markdown",
   "id": "152a12ea",
   "metadata": {},
   "source": [
    "## B.Plot the top five Underlying cause contributing to the child death"
   ]
  },
  {
   "cell_type": "code",
   "execution_count": 128,
   "id": "9364f477",
   "metadata": {},
   "outputs": [
    {
     "data": {
      "image/png": "[encoded data removed]",
      "text/plain": [
       "<Figure size 432x288 with 1 Axes>"
      ]
     },
     "metadata": {
      "needs_background": "light"
     },
     "output_type": "display_data"
    }
   ],
   "source": [
    "top_5_underlying = df['underlying_cause'].value_counts().head(5)\n",
    "top_5_underlying.plot(kind='bar')\n",
    "plt.title('Top 5 Infant maternal factors Causes of Child Death')\n",
    "plt.xlabel('underlying_cause of child death')\n",
    "plt.ylabel('Count')\n",
    "plt.show()"
   ]
  },
  {
   "cell_type": "markdown",
   "id": "292e9890",
   "metadata": {},
   "source": [
    "## C.Plot the top five Maternal factor contributing to the child death"
   ]
  },
  {
   "cell_type": "code",
   "execution_count": 129,
   "id": "bc5c6dbb",
   "metadata": {},
   "outputs": [
    {
     "data": {
      "image/png": "[encoded data removed]",
      "text/plain": [
       "<Figure size 432x288 with 1 Axes>"
      ]
     },
     "metadata": {
      "needs_background": "light"
     },
     "output_type": "display_data"
    }
   ],
   "source": [
    "top_5_underlying = df['maternal_factor'].value_counts().head(5)\n",
    "top_5_underlying.plot(kind='bar')\n",
    "plt.title('Top 5 Infant Maternal factors of Child Death')\n",
    "plt.xlabel('maternal factors')\n",
    "plt.ylabel('Count')\n",
    "plt.show()"
   ]
  },
  {
   "cell_type": "markdown",
   "id": "05e8630f",
   "metadata": {},
   "source": [
    "## D.Plot the child death based on the case types"
   ]
  },
  {
   "cell_type": "code",
   "execution_count": 130,
   "id": "88351652",
   "metadata": {},
   "outputs": [
    {
     "data": {
      "image/png": "[encoded data removed]",
      "text/plain": [
       "<Figure size 432x288 with 1 Axes>"
      ]
     },
     "metadata": {
      "needs_background": "light"
     },
     "output_type": "display_data"
    }
   ],
   "source": [
    "top_5_case_types = df['case_type'].value_counts().head(5)\n",
    "top_5_underlying.plot(kind='bar')\n",
    "plt.title('Top 5 child death based on the case types ')\n",
    "plt.xlabel('Case type')\n",
    "plt.ylabel('Count')\n",
    "plt.show()"
   ]
  },
  {
   "cell_type": "code",
   "execution_count": null,
   "id": "8440699c",
   "metadata": {},
   "outputs": [],
   "source": []
  }
 ],
 "metadata": {
  "kernelspec": {
   "display_name": "Python 3",
   "language": "python",
   "name": "python3"
  },
  "language_info": {
   "codemirror_mode": {
    "name": "ipython",
    "version": 3
   },
   "file_extension": ".py",
   "mimetype": "text/x-python",
   "name": "python",
   "nbconvert_exporter": "python",
   "pygments_lexer": "ipython3",
   "version": "3.9.15"
  }
 },
 "nbformat": 4,
 "nbformat_minor": 5
}
